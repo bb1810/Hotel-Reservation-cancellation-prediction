{
 "cells": [
  {
   "cell_type": "markdown",
   "id": "99a06ad5",
   "metadata": {},
   "source": [
    "                                        ~ BHARATH BOMMEESHWAR K ~"
   ]
  },
  {
   "cell_type": "markdown",
   "id": "bb23716a",
   "metadata": {},
   "source": [
    "### <U> Problem Statement \n",
    "<font color= green> Customer behavior and booking possibilities have been radically changed by online hotel reservation channels. Cancellations or no-shows cause a significant number of hotel reservations to be canceled. Cancellations can be caused by a variety of factors, such as scheduling conflicts, changes in plans, etc. In many cases, this is made easier by the possibility of doing so free or at a low cost, which is beneficial for hotel guests but less desirable and possibly revenue-diminishing for hotels.\n",
    "As a Data Scientist, your job is to build a Machine Learning model to help the Hotel Owners better understand if the customer is going to honor the reservation or cancel it ?"
   ]
  },
  {
   "cell_type": "markdown",
   "id": "9a302b8d",
   "metadata": {},
   "source": [
    "### <U>Objective\n",
    "\n",
    "To build a optimal Machine learning model to predict whether the rooms reserved by the guest will be honored or cancelled. Thereby helping the hotel owners to reduce the diminishing revenue."
   ]
  },
  {
   "cell_type": "markdown",
   "id": "b6c02727",
   "metadata": {},
   "source": [
    "### <U>Frame work\n",
    "   - Data acquistion\n",
    "   - Exploratory Data Analysis - Univariate and bivariate\n",
    "   - Data pre-processing \n",
    "   - Building machine learning model\n",
    "   - Models evaluation \n",
    "   - Models testing\n",
    "   - Recommendations\n",
    "   - Conclusion  "
   ]
  },
  {
   "cell_type": "markdown",
   "id": "66d3473e",
   "metadata": {},
   "source": [
    "### 1. Data Acquisition"
   ]
  },
  {
   "cell_type": "code",
   "execution_count": 2,
   "id": "c6fc333b",
   "metadata": {},
   "outputs": [],
   "source": [
    "#datastructures and tools\n",
    "import pandas as pd\n",
    "\n",
    "#matrices and arrays\n",
    "import numpy as np\n",
    "\n",
    "#vizualizations\n",
    "import seaborn as sns\n",
    "import matplotlib.pyplot as plt\n",
    "\n",
    "#to hide harmless warnings\n",
    "import warnings\n",
    "warnings.filterwarnings('ignore')\n",
    "\n",
    "#to work with time computation\n",
    "import time\n",
    "\n",
    "#Resampling \n",
    "from imblearn import under_sampling, over_sampling\n",
    "from imblearn.over_sampling import SMOTE\n",
    "from collections import Counter\n",
    "\n",
    "#scientific computation\n",
    "from scipy import stats\n",
    "import statsmodels.formula.api as sm\n",
    "\n",
    "# scale the data\n",
    "from sklearn.preprocessing import StandardScaler\n",
    "# split the data\n",
    "from sklearn.model_selection import train_test_split\n",
    "# cross validation - grid search\n",
    "from sklearn.model_selection import GridSearchCV\n",
    "#linear regression model\n",
    "from sklearn.linear_model import LinearRegression\n",
    "#knn neighbour model\n",
    "from sklearn.neighbors import KNeighborsClassifier\n",
    "#decision tree model\n",
    "from sklearn.tree import DecisionTreeClassifier\n",
    "#random forest\n",
    "from sklearn.ensemble import RandomForestClassifier\n",
    "#adaboost classifier\n",
    "from sklearn.ensemble import AdaBoostClassifier\n",
    "#gradient boosting\n",
    "from sklearn.ensemble import GradientBoostingClassifier\n",
    "#Bagging model\n",
    "from sklearn.ensemble import BaggingClassifier\n",
    "\n",
    "#for cross validation\n",
    "from sklearn.model_selection import RepeatedStratifiedKFold\n",
    "from sklearn.model_selection import cross_val_score\n",
    "\n",
    "#measure accuracy of predictions\n",
    "from sklearn import metrics\n",
    "#to get complete classification report\n",
    "from sklearn.metrics import classification_report\n",
    "\n",
    "#to check accuracy \n",
    "from sklearn import metrics as mat"
   ]
  },
  {
   "cell_type": "code",
   "execution_count": 58,
   "id": "10b19c80",
   "metadata": {
    "scrolled": true
   },
   "outputs": [
    {
     "data": {
      "text/html": [
       "<div>\n",
       "<style scoped>\n",
       "    .dataframe tbody tr th:only-of-type {\n",
       "        vertical-align: middle;\n",
       "    }\n",
       "\n",
       "    .dataframe tbody tr th {\n",
       "        vertical-align: top;\n",
       "    }\n",
       "\n",
       "    .dataframe thead th {\n",
       "        text-align: right;\n",
       "    }\n",
       "</style>\n",
       "<table border=\"1\" class=\"dataframe\">\n",
       "  <thead>\n",
       "    <tr style=\"text-align: right;\">\n",
       "      <th></th>\n",
       "      <th>no_of_adults</th>\n",
       "      <th>no_of_children</th>\n",
       "      <th>no_of_weekend_nights</th>\n",
       "      <th>no_of_week_nights</th>\n",
       "      <th>type_of_meal_plan</th>\n",
       "      <th>required_car_parking_space</th>\n",
       "      <th>room_type_reserved</th>\n",
       "      <th>lead_time</th>\n",
       "      <th>arrival_year</th>\n",
       "      <th>arrival_month</th>\n",
       "      <th>arrival_date</th>\n",
       "      <th>market_segment_type</th>\n",
       "      <th>repeated_guest</th>\n",
       "      <th>no_of_previous_cancellations</th>\n",
       "      <th>no_of_previous_bookings_not_canceled</th>\n",
       "      <th>avg_price_per_room</th>\n",
       "      <th>no_of_special_requests</th>\n",
       "      <th>booking_status</th>\n",
       "    </tr>\n",
       "  </thead>\n",
       "  <tbody>\n",
       "    <tr>\n",
       "      <th>0</th>\n",
       "      <td>2</td>\n",
       "      <td>0</td>\n",
       "      <td>1</td>\n",
       "      <td>4</td>\n",
       "      <td>0</td>\n",
       "      <td>0</td>\n",
       "      <td>0</td>\n",
       "      <td>118</td>\n",
       "      <td>2017</td>\n",
       "      <td>12</td>\n",
       "      <td>28</td>\n",
       "      <td>1</td>\n",
       "      <td>0</td>\n",
       "      <td>0</td>\n",
       "      <td>0</td>\n",
       "      <td>110.80</td>\n",
       "      <td>2</td>\n",
       "      <td>0</td>\n",
       "    </tr>\n",
       "    <tr>\n",
       "      <th>1</th>\n",
       "      <td>2</td>\n",
       "      <td>1</td>\n",
       "      <td>0</td>\n",
       "      <td>2</td>\n",
       "      <td>0</td>\n",
       "      <td>0</td>\n",
       "      <td>0</td>\n",
       "      <td>17</td>\n",
       "      <td>2018</td>\n",
       "      <td>4</td>\n",
       "      <td>14</td>\n",
       "      <td>1</td>\n",
       "      <td>0</td>\n",
       "      <td>0</td>\n",
       "      <td>0</td>\n",
       "      <td>145.00</td>\n",
       "      <td>0</td>\n",
       "      <td>1</td>\n",
       "    </tr>\n",
       "    <tr>\n",
       "      <th>2</th>\n",
       "      <td>1</td>\n",
       "      <td>0</td>\n",
       "      <td>1</td>\n",
       "      <td>5</td>\n",
       "      <td>0</td>\n",
       "      <td>0</td>\n",
       "      <td>0</td>\n",
       "      <td>349</td>\n",
       "      <td>2018</td>\n",
       "      <td>10</td>\n",
       "      <td>4</td>\n",
       "      <td>0</td>\n",
       "      <td>0</td>\n",
       "      <td>0</td>\n",
       "      <td>0</td>\n",
       "      <td>96.67</td>\n",
       "      <td>0</td>\n",
       "      <td>1</td>\n",
       "    </tr>\n",
       "    <tr>\n",
       "      <th>3</th>\n",
       "      <td>1</td>\n",
       "      <td>0</td>\n",
       "      <td>2</td>\n",
       "      <td>4</td>\n",
       "      <td>0</td>\n",
       "      <td>0</td>\n",
       "      <td>0</td>\n",
       "      <td>69</td>\n",
       "      <td>2018</td>\n",
       "      <td>6</td>\n",
       "      <td>12</td>\n",
       "      <td>0</td>\n",
       "      <td>0</td>\n",
       "      <td>0</td>\n",
       "      <td>0</td>\n",
       "      <td>120.00</td>\n",
       "      <td>0</td>\n",
       "      <td>1</td>\n",
       "    </tr>\n",
       "    <tr>\n",
       "      <th>4</th>\n",
       "      <td>2</td>\n",
       "      <td>0</td>\n",
       "      <td>0</td>\n",
       "      <td>4</td>\n",
       "      <td>1</td>\n",
       "      <td>0</td>\n",
       "      <td>0</td>\n",
       "      <td>11</td>\n",
       "      <td>2018</td>\n",
       "      <td>1</td>\n",
       "      <td>20</td>\n",
       "      <td>1</td>\n",
       "      <td>0</td>\n",
       "      <td>0</td>\n",
       "      <td>0</td>\n",
       "      <td>69.50</td>\n",
       "      <td>1</td>\n",
       "      <td>0</td>\n",
       "    </tr>\n",
       "  </tbody>\n",
       "</table>\n",
       "</div>"
      ],
      "text/plain": [
       "   no_of_adults  no_of_children  no_of_weekend_nights  no_of_week_nights  \\\n",
       "0             2               0                     1                  4   \n",
       "1             2               1                     0                  2   \n",
       "2             1               0                     1                  5   \n",
       "3             1               0                     2                  4   \n",
       "4             2               0                     0                  4   \n",
       "\n",
       "   type_of_meal_plan  required_car_parking_space  room_type_reserved  \\\n",
       "0                  0                           0                   0   \n",
       "1                  0                           0                   0   \n",
       "2                  0                           0                   0   \n",
       "3                  0                           0                   0   \n",
       "4                  1                           0                   0   \n",
       "\n",
       "   lead_time  arrival_year  arrival_month  arrival_date  market_segment_type  \\\n",
       "0        118          2017             12            28                    1   \n",
       "1         17          2018              4            14                    1   \n",
       "2        349          2018             10             4                    0   \n",
       "3         69          2018              6            12                    0   \n",
       "4         11          2018              1            20                    1   \n",
       "\n",
       "   repeated_guest  no_of_previous_cancellations  \\\n",
       "0               0                             0   \n",
       "1               0                             0   \n",
       "2               0                             0   \n",
       "3               0                             0   \n",
       "4               0                             0   \n",
       "\n",
       "   no_of_previous_bookings_not_canceled  avg_price_per_room  \\\n",
       "0                                     0              110.80   \n",
       "1                                     0              145.00   \n",
       "2                                     0               96.67   \n",
       "3                                     0              120.00   \n",
       "4                                     0               69.50   \n",
       "\n",
       "   no_of_special_requests  booking_status  \n",
       "0                       2               0  \n",
       "1                       0               1  \n",
       "2                       0               1  \n",
       "3                       0               1  \n",
       "4                       1               0  "
      ]
     },
     "execution_count": 58,
     "metadata": {},
     "output_type": "execute_result"
    }
   ],
   "source": [
    "#Importing the Train data set\n",
    "raw_data=pd.read_csv('train_dataset.csv')\n",
    "raw_data.head()"
   ]
  },
  {
   "cell_type": "code",
   "execution_count": 59,
   "id": "58cbef14",
   "metadata": {
    "scrolled": true
   },
   "outputs": [
    {
     "data": {
      "text/html": [
       "<div>\n",
       "<style scoped>\n",
       "    .dataframe tbody tr th:only-of-type {\n",
       "        vertical-align: middle;\n",
       "    }\n",
       "\n",
       "    .dataframe tbody tr th {\n",
       "        vertical-align: top;\n",
       "    }\n",
       "\n",
       "    .dataframe thead th {\n",
       "        text-align: right;\n",
       "    }\n",
       "</style>\n",
       "<table border=\"1\" class=\"dataframe\">\n",
       "  <thead>\n",
       "    <tr style=\"text-align: right;\">\n",
       "      <th></th>\n",
       "      <th>no_of_adults</th>\n",
       "      <th>no_of_children</th>\n",
       "      <th>no_of_weekend_nights</th>\n",
       "      <th>no_of_week_nights</th>\n",
       "      <th>type_of_meal_plan</th>\n",
       "      <th>required_car_parking_space</th>\n",
       "      <th>room_type_reserved</th>\n",
       "      <th>lead_time</th>\n",
       "      <th>arrival_year</th>\n",
       "      <th>arrival_month</th>\n",
       "      <th>arrival_date</th>\n",
       "      <th>market_segment_type</th>\n",
       "      <th>repeated_guest</th>\n",
       "      <th>no_of_previous_cancellations</th>\n",
       "      <th>no_of_previous_bookings_not_canceled</th>\n",
       "      <th>avg_price_per_room</th>\n",
       "      <th>no_of_special_requests</th>\n",
       "      <th>booking_status</th>\n",
       "    </tr>\n",
       "  </thead>\n",
       "  <tbody>\n",
       "    <tr>\n",
       "      <th>0</th>\n",
       "      <td>2</td>\n",
       "      <td>0</td>\n",
       "      <td>1</td>\n",
       "      <td>4</td>\n",
       "      <td>0</td>\n",
       "      <td>0</td>\n",
       "      <td>0</td>\n",
       "      <td>118</td>\n",
       "      <td>2017</td>\n",
       "      <td>12</td>\n",
       "      <td>28</td>\n",
       "      <td>1</td>\n",
       "      <td>0</td>\n",
       "      <td>0</td>\n",
       "      <td>0</td>\n",
       "      <td>110.80</td>\n",
       "      <td>2</td>\n",
       "      <td>0</td>\n",
       "    </tr>\n",
       "    <tr>\n",
       "      <th>1</th>\n",
       "      <td>2</td>\n",
       "      <td>1</td>\n",
       "      <td>0</td>\n",
       "      <td>2</td>\n",
       "      <td>0</td>\n",
       "      <td>0</td>\n",
       "      <td>0</td>\n",
       "      <td>17</td>\n",
       "      <td>2018</td>\n",
       "      <td>4</td>\n",
       "      <td>14</td>\n",
       "      <td>1</td>\n",
       "      <td>0</td>\n",
       "      <td>0</td>\n",
       "      <td>0</td>\n",
       "      <td>145.00</td>\n",
       "      <td>0</td>\n",
       "      <td>1</td>\n",
       "    </tr>\n",
       "    <tr>\n",
       "      <th>2</th>\n",
       "      <td>1</td>\n",
       "      <td>0</td>\n",
       "      <td>1</td>\n",
       "      <td>5</td>\n",
       "      <td>0</td>\n",
       "      <td>0</td>\n",
       "      <td>0</td>\n",
       "      <td>349</td>\n",
       "      <td>2018</td>\n",
       "      <td>10</td>\n",
       "      <td>4</td>\n",
       "      <td>0</td>\n",
       "      <td>0</td>\n",
       "      <td>0</td>\n",
       "      <td>0</td>\n",
       "      <td>96.67</td>\n",
       "      <td>0</td>\n",
       "      <td>1</td>\n",
       "    </tr>\n",
       "    <tr>\n",
       "      <th>3</th>\n",
       "      <td>1</td>\n",
       "      <td>0</td>\n",
       "      <td>2</td>\n",
       "      <td>4</td>\n",
       "      <td>0</td>\n",
       "      <td>0</td>\n",
       "      <td>0</td>\n",
       "      <td>69</td>\n",
       "      <td>2018</td>\n",
       "      <td>6</td>\n",
       "      <td>12</td>\n",
       "      <td>0</td>\n",
       "      <td>0</td>\n",
       "      <td>0</td>\n",
       "      <td>0</td>\n",
       "      <td>120.00</td>\n",
       "      <td>0</td>\n",
       "      <td>1</td>\n",
       "    </tr>\n",
       "    <tr>\n",
       "      <th>4</th>\n",
       "      <td>2</td>\n",
       "      <td>0</td>\n",
       "      <td>0</td>\n",
       "      <td>4</td>\n",
       "      <td>1</td>\n",
       "      <td>0</td>\n",
       "      <td>0</td>\n",
       "      <td>11</td>\n",
       "      <td>2018</td>\n",
       "      <td>1</td>\n",
       "      <td>20</td>\n",
       "      <td>1</td>\n",
       "      <td>0</td>\n",
       "      <td>0</td>\n",
       "      <td>0</td>\n",
       "      <td>69.50</td>\n",
       "      <td>1</td>\n",
       "      <td>0</td>\n",
       "    </tr>\n",
       "  </tbody>\n",
       "</table>\n",
       "</div>"
      ],
      "text/plain": [
       "   no_of_adults  no_of_children  no_of_weekend_nights  no_of_week_nights  \\\n",
       "0             2               0                     1                  4   \n",
       "1             2               1                     0                  2   \n",
       "2             1               0                     1                  5   \n",
       "3             1               0                     2                  4   \n",
       "4             2               0                     0                  4   \n",
       "\n",
       "   type_of_meal_plan  required_car_parking_space  room_type_reserved  \\\n",
       "0                  0                           0                   0   \n",
       "1                  0                           0                   0   \n",
       "2                  0                           0                   0   \n",
       "3                  0                           0                   0   \n",
       "4                  1                           0                   0   \n",
       "\n",
       "   lead_time  arrival_year  arrival_month  arrival_date  market_segment_type  \\\n",
       "0        118          2017             12            28                    1   \n",
       "1         17          2018              4            14                    1   \n",
       "2        349          2018             10             4                    0   \n",
       "3         69          2018              6            12                    0   \n",
       "4         11          2018              1            20                    1   \n",
       "\n",
       "   repeated_guest  no_of_previous_cancellations  \\\n",
       "0               0                             0   \n",
       "1               0                             0   \n",
       "2               0                             0   \n",
       "3               0                             0   \n",
       "4               0                             0   \n",
       "\n",
       "   no_of_previous_bookings_not_canceled  avg_price_per_room  \\\n",
       "0                                     0              110.80   \n",
       "1                                     0              145.00   \n",
       "2                                     0               96.67   \n",
       "3                                     0              120.00   \n",
       "4                                     0               69.50   \n",
       "\n",
       "   no_of_special_requests  booking_status  \n",
       "0                       2               0  \n",
       "1                       0               1  \n",
       "2                       0               1  \n",
       "3                       0               1  \n",
       "4                       1               0  "
      ]
     },
     "execution_count": 59,
     "metadata": {},
     "output_type": "execute_result"
    }
   ],
   "source": [
    "#making copy of the data set\n",
    "data1 = raw_data.copy()\n",
    "data1.head()"
   ]
  },
  {
   "cell_type": "code",
   "execution_count": 60,
   "id": "1966c941",
   "metadata": {
    "scrolled": true
   },
   "outputs": [
    {
     "name": "stdout",
     "output_type": "stream",
     "text": [
      "<class 'pandas.core.frame.DataFrame'>\n",
      "RangeIndex: 18137 entries, 0 to 18136\n",
      "Data columns (total 18 columns):\n",
      " #   Column                                Non-Null Count  Dtype  \n",
      "---  ------                                --------------  -----  \n",
      " 0   no_of_adults                          18137 non-null  int64  \n",
      " 1   no_of_children                        18137 non-null  int64  \n",
      " 2   no_of_weekend_nights                  18137 non-null  int64  \n",
      " 3   no_of_week_nights                     18137 non-null  int64  \n",
      " 4   type_of_meal_plan                     18137 non-null  int64  \n",
      " 5   required_car_parking_space            18137 non-null  int64  \n",
      " 6   room_type_reserved                    18137 non-null  int64  \n",
      " 7   lead_time                             18137 non-null  int64  \n",
      " 8   arrival_year                          18137 non-null  int64  \n",
      " 9   arrival_month                         18137 non-null  int64  \n",
      " 10  arrival_date                          18137 non-null  int64  \n",
      " 11  market_segment_type                   18137 non-null  int64  \n",
      " 12  repeated_guest                        18137 non-null  int64  \n",
      " 13  no_of_previous_cancellations          18137 non-null  int64  \n",
      " 14  no_of_previous_bookings_not_canceled  18137 non-null  int64  \n",
      " 15  avg_price_per_room                    18137 non-null  float64\n",
      " 16  no_of_special_requests                18137 non-null  int64  \n",
      " 17  booking_status                        18137 non-null  int64  \n",
      "dtypes: float64(1), int64(17)\n",
      "memory usage: 2.5 MB\n"
     ]
    }
   ],
   "source": [
    "data1.info()"
   ]
  },
  {
   "cell_type": "markdown",
   "id": "ec293e7b",
   "metadata": {},
   "source": [
    "1.Booking_ID: unique identifier of each booking  \n",
    "2.No of adults: Number of adults  \n",
    "3.No of children: Number of Children  \n",
    "4.noofweekend_nights: Number of weekend nights (Saturday or Sunday) the guest stayed or booked to stay at the hotel  \n",
    "5.noofweek_nights: Number of week nights (Monday to Friday) the guest stayed or booked to stay at the hotel  \n",
    "6.typeofmeal_plan: Type of meal plan booked by the customer    \n",
    "7.requiredcarparking_space: Does the customer require a car parking space? (0 - No, 1- Yes)  \n",
    "8.roomtypereserved: Type of room reserved by the customer. The values are ciphered (encoded) by INN Hotels  \n",
    "9.lead_time: Number of days between the date of booking and the arrival date  \n",
    "10.arrival_year: Year of arrival date  \n",
    "11.arrival_month: Month of arrival date  \n",
    "12.arrival_date: Date of the month  \n",
    "13.Market segment type: Market segment designation    \n",
    "14.repeated_guest: Is the customer a repeated guest? (0 - No, 1- Yes)  \n",
    "15.noofprevious_cancellations: Number of previous bookings that were canceled by the customer prior to the current booking  \n",
    "16.noofpreviousbookingsnot_canceled: Number of previous bookings not canceled by the customer prior to the current booking  \n",
    "17.avgpriceper_room: Average price per day of the reservation; prices of the rooms are dynamic. (in euros)  \n",
    "18.noofspecial_requests: Total number of special requests made by the customer (e.g. high floor, view from the room, etc)  \n",
    "19.booking_status: Flag indicating if the booking was canceled or not.  "
   ]
  },
  {
   "cell_type": "markdown",
   "id": "04f3ddc0",
   "metadata": {},
   "source": [
    "####  <font color= BLUE> <b> <u>The dataset contains totally 17 variables and 18137 train observations\n",
    "  - 2 Numerical variables    \n",
    "  - 10 Discrete numerical  \n",
    "  - 5 Categorical variables(1 target_included ~ 0-Not cancelled/1-Cancelled)   "
   ]
  },
  {
   "cell_type": "markdown",
   "id": "d2d2b21d",
   "metadata": {},
   "source": [
    "### 2.Exploratory Data Analysis"
   ]
  },
  {
   "cell_type": "code",
   "execution_count": 61,
   "id": "12a1a0a9",
   "metadata": {
    "scrolled": true
   },
   "outputs": [
    {
     "data": {
      "text/plain": [
       "no_of_adults                            0\n",
       "no_of_children                          0\n",
       "no_of_weekend_nights                    0\n",
       "no_of_week_nights                       0\n",
       "type_of_meal_plan                       0\n",
       "required_car_parking_space              0\n",
       "room_type_reserved                      0\n",
       "lead_time                               0\n",
       "arrival_year                            0\n",
       "arrival_month                           0\n",
       "arrival_date                            0\n",
       "market_segment_type                     0\n",
       "repeated_guest                          0\n",
       "no_of_previous_cancellations            0\n",
       "no_of_previous_bookings_not_canceled    0\n",
       "avg_price_per_room                      0\n",
       "no_of_special_requests                  0\n",
       "booking_status                          0\n",
       "dtype: int64"
      ]
     },
     "execution_count": 61,
     "metadata": {},
     "output_type": "execute_result"
    }
   ],
   "source": [
    "# Identifying the presence of null values\n",
    "data1.isnull().sum()"
   ]
  },
  {
   "cell_type": "markdown",
   "id": "2b838c58",
   "metadata": {},
   "source": [
    "* Fortunately, we dont see any missing values.If found they should be treated appropriately.  \n",
    "* Based on the skewness of continuous data mean or median can be employed.  \n",
    "* Whereas for categorical variable mode can be used.  \n",
    "* In the case of class imbalanced target variable conditional mean / conditional median is used to fill the respective independent variables.  "
   ]
  },
  {
   "cell_type": "code",
   "execution_count": 62,
   "id": "b3d31230",
   "metadata": {
    "scrolled": true
   },
   "outputs": [
    {
     "name": "stdout",
     "output_type": "stream",
     "text": [
      "Duplicates count: 4111\n"
     ]
    }
   ],
   "source": [
    "# Checking for any duplicate entries\n",
    "duplicates1=data1.duplicated()\n",
    "print(\"Duplicates count:\",duplicates1.sum())\n",
    "\n",
    "#However if the target is imbalanced, it need to balanced by making duplicates(using smote)"
   ]
  },
  {
   "cell_type": "code",
   "execution_count": 63,
   "id": "6ac558e9",
   "metadata": {},
   "outputs": [
    {
     "data": {
      "text/plain": [
       "4111"
      ]
     },
     "execution_count": 63,
     "metadata": {},
     "output_type": "execute_result"
    }
   ],
   "source": [
    "#lets try without removing duplicates since we dont have the customerid we cannot be very sure about the duplicates\n",
    "data1.duplicated().sum()"
   ]
  },
  {
   "cell_type": "code",
   "execution_count": 64,
   "id": "b30a4115",
   "metadata": {
    "id": "DoWS32oI5czr"
   },
   "outputs": [
    {
     "data": {
      "text/html": [
       "<div>\n",
       "<style scoped>\n",
       "    .dataframe tbody tr th:only-of-type {\n",
       "        vertical-align: middle;\n",
       "    }\n",
       "\n",
       "    .dataframe tbody tr th {\n",
       "        vertical-align: top;\n",
       "    }\n",
       "\n",
       "    .dataframe thead th {\n",
       "        text-align: right;\n",
       "    }\n",
       "</style>\n",
       "<table border=\"1\" class=\"dataframe\">\n",
       "  <thead>\n",
       "    <tr style=\"text-align: right;\">\n",
       "      <th></th>\n",
       "      <th>no_of_adults</th>\n",
       "      <th>no_of_children</th>\n",
       "      <th>no_of_weekend_nights</th>\n",
       "      <th>no_of_week_nights</th>\n",
       "      <th>type_of_meal_plan</th>\n",
       "      <th>required_car_parking_space</th>\n",
       "      <th>room_type_reserved</th>\n",
       "      <th>lead_time</th>\n",
       "      <th>arrival_year</th>\n",
       "      <th>arrival_month</th>\n",
       "      <th>arrival_date</th>\n",
       "      <th>market_segment_type</th>\n",
       "      <th>repeated_guest</th>\n",
       "      <th>no_of_previous_cancellations</th>\n",
       "      <th>no_of_previous_bookings_not_canceled</th>\n",
       "      <th>avg_price_per_room</th>\n",
       "      <th>no_of_special_requests</th>\n",
       "      <th>booking_status</th>\n",
       "    </tr>\n",
       "  </thead>\n",
       "  <tbody>\n",
       "    <tr>\n",
       "      <th>count</th>\n",
       "      <td>18137.000000</td>\n",
       "      <td>18137.000000</td>\n",
       "      <td>18137.000000</td>\n",
       "      <td>18137.000000</td>\n",
       "      <td>18137.000000</td>\n",
       "      <td>18137.000000</td>\n",
       "      <td>18137.000000</td>\n",
       "      <td>18137.000000</td>\n",
       "      <td>18137.000000</td>\n",
       "      <td>18137.000000</td>\n",
       "      <td>18137.000000</td>\n",
       "      <td>18137.000000</td>\n",
       "      <td>18137.000000</td>\n",
       "      <td>18137.000000</td>\n",
       "      <td>18137.000000</td>\n",
       "      <td>18137.000000</td>\n",
       "      <td>18137.000000</td>\n",
       "      <td>18137.000000</td>\n",
       "    </tr>\n",
       "    <tr>\n",
       "      <th>mean</th>\n",
       "      <td>1.846777</td>\n",
       "      <td>0.107515</td>\n",
       "      <td>0.811104</td>\n",
       "      <td>2.208965</td>\n",
       "      <td>0.318465</td>\n",
       "      <td>0.031648</td>\n",
       "      <td>0.336770</td>\n",
       "      <td>85.377405</td>\n",
       "      <td>2017.820698</td>\n",
       "      <td>7.432762</td>\n",
       "      <td>15.660804</td>\n",
       "      <td>0.806197</td>\n",
       "      <td>0.025087</td>\n",
       "      <td>0.022440</td>\n",
       "      <td>0.151403</td>\n",
       "      <td>103.478868</td>\n",
       "      <td>0.617522</td>\n",
       "      <td>0.327618</td>\n",
       "    </tr>\n",
       "    <tr>\n",
       "      <th>std</th>\n",
       "      <td>0.516020</td>\n",
       "      <td>0.408901</td>\n",
       "      <td>0.873470</td>\n",
       "      <td>1.426365</td>\n",
       "      <td>0.629140</td>\n",
       "      <td>0.175066</td>\n",
       "      <td>0.772865</td>\n",
       "      <td>86.611736</td>\n",
       "      <td>0.383616</td>\n",
       "      <td>3.076999</td>\n",
       "      <td>8.772788</td>\n",
       "      <td>0.645972</td>\n",
       "      <td>0.156393</td>\n",
       "      <td>0.370078</td>\n",
       "      <td>1.714135</td>\n",
       "      <td>35.474103</td>\n",
       "      <td>0.787941</td>\n",
       "      <td>0.469357</td>\n",
       "    </tr>\n",
       "    <tr>\n",
       "      <th>min</th>\n",
       "      <td>0.000000</td>\n",
       "      <td>0.000000</td>\n",
       "      <td>0.000000</td>\n",
       "      <td>0.000000</td>\n",
       "      <td>0.000000</td>\n",
       "      <td>0.000000</td>\n",
       "      <td>0.000000</td>\n",
       "      <td>0.000000</td>\n",
       "      <td>2017.000000</td>\n",
       "      <td>1.000000</td>\n",
       "      <td>1.000000</td>\n",
       "      <td>0.000000</td>\n",
       "      <td>0.000000</td>\n",
       "      <td>0.000000</td>\n",
       "      <td>0.000000</td>\n",
       "      <td>0.000000</td>\n",
       "      <td>0.000000</td>\n",
       "      <td>0.000000</td>\n",
       "    </tr>\n",
       "    <tr>\n",
       "      <th>25%</th>\n",
       "      <td>2.000000</td>\n",
       "      <td>0.000000</td>\n",
       "      <td>0.000000</td>\n",
       "      <td>1.000000</td>\n",
       "      <td>0.000000</td>\n",
       "      <td>0.000000</td>\n",
       "      <td>0.000000</td>\n",
       "      <td>17.000000</td>\n",
       "      <td>2018.000000</td>\n",
       "      <td>5.000000</td>\n",
       "      <td>8.000000</td>\n",
       "      <td>0.000000</td>\n",
       "      <td>0.000000</td>\n",
       "      <td>0.000000</td>\n",
       "      <td>0.000000</td>\n",
       "      <td>80.300000</td>\n",
       "      <td>0.000000</td>\n",
       "      <td>0.000000</td>\n",
       "    </tr>\n",
       "    <tr>\n",
       "      <th>50%</th>\n",
       "      <td>2.000000</td>\n",
       "      <td>0.000000</td>\n",
       "      <td>1.000000</td>\n",
       "      <td>2.000000</td>\n",
       "      <td>0.000000</td>\n",
       "      <td>0.000000</td>\n",
       "      <td>0.000000</td>\n",
       "      <td>57.000000</td>\n",
       "      <td>2018.000000</td>\n",
       "      <td>8.000000</td>\n",
       "      <td>16.000000</td>\n",
       "      <td>1.000000</td>\n",
       "      <td>0.000000</td>\n",
       "      <td>0.000000</td>\n",
       "      <td>0.000000</td>\n",
       "      <td>99.450000</td>\n",
       "      <td>0.000000</td>\n",
       "      <td>0.000000</td>\n",
       "    </tr>\n",
       "    <tr>\n",
       "      <th>75%</th>\n",
       "      <td>2.000000</td>\n",
       "      <td>0.000000</td>\n",
       "      <td>2.000000</td>\n",
       "      <td>3.000000</td>\n",
       "      <td>0.000000</td>\n",
       "      <td>0.000000</td>\n",
       "      <td>0.000000</td>\n",
       "      <td>127.000000</td>\n",
       "      <td>2018.000000</td>\n",
       "      <td>10.000000</td>\n",
       "      <td>23.000000</td>\n",
       "      <td>1.000000</td>\n",
       "      <td>0.000000</td>\n",
       "      <td>0.000000</td>\n",
       "      <td>0.000000</td>\n",
       "      <td>120.270000</td>\n",
       "      <td>1.000000</td>\n",
       "      <td>1.000000</td>\n",
       "    </tr>\n",
       "    <tr>\n",
       "      <th>max</th>\n",
       "      <td>4.000000</td>\n",
       "      <td>9.000000</td>\n",
       "      <td>7.000000</td>\n",
       "      <td>17.000000</td>\n",
       "      <td>3.000000</td>\n",
       "      <td>1.000000</td>\n",
       "      <td>6.000000</td>\n",
       "      <td>443.000000</td>\n",
       "      <td>2018.000000</td>\n",
       "      <td>12.000000</td>\n",
       "      <td>31.000000</td>\n",
       "      <td>4.000000</td>\n",
       "      <td>1.000000</td>\n",
       "      <td>13.000000</td>\n",
       "      <td>58.000000</td>\n",
       "      <td>540.000000</td>\n",
       "      <td>5.000000</td>\n",
       "      <td>1.000000</td>\n",
       "    </tr>\n",
       "  </tbody>\n",
       "</table>\n",
       "</div>"
      ],
      "text/plain": [
       "       no_of_adults  no_of_children  no_of_weekend_nights  no_of_week_nights  \\\n",
       "count  18137.000000    18137.000000          18137.000000       18137.000000   \n",
       "mean       1.846777        0.107515              0.811104           2.208965   \n",
       "std        0.516020        0.408901              0.873470           1.426365   \n",
       "min        0.000000        0.000000              0.000000           0.000000   \n",
       "25%        2.000000        0.000000              0.000000           1.000000   \n",
       "50%        2.000000        0.000000              1.000000           2.000000   \n",
       "75%        2.000000        0.000000              2.000000           3.000000   \n",
       "max        4.000000        9.000000              7.000000          17.000000   \n",
       "\n",
       "       type_of_meal_plan  required_car_parking_space  room_type_reserved  \\\n",
       "count       18137.000000                18137.000000        18137.000000   \n",
       "mean            0.318465                    0.031648            0.336770   \n",
       "std             0.629140                    0.175066            0.772865   \n",
       "min             0.000000                    0.000000            0.000000   \n",
       "25%             0.000000                    0.000000            0.000000   \n",
       "50%             0.000000                    0.000000            0.000000   \n",
       "75%             0.000000                    0.000000            0.000000   \n",
       "max             3.000000                    1.000000            6.000000   \n",
       "\n",
       "          lead_time  arrival_year  arrival_month  arrival_date  \\\n",
       "count  18137.000000  18137.000000   18137.000000  18137.000000   \n",
       "mean      85.377405   2017.820698       7.432762     15.660804   \n",
       "std       86.611736      0.383616       3.076999      8.772788   \n",
       "min        0.000000   2017.000000       1.000000      1.000000   \n",
       "25%       17.000000   2018.000000       5.000000      8.000000   \n",
       "50%       57.000000   2018.000000       8.000000     16.000000   \n",
       "75%      127.000000   2018.000000      10.000000     23.000000   \n",
       "max      443.000000   2018.000000      12.000000     31.000000   \n",
       "\n",
       "       market_segment_type  repeated_guest  no_of_previous_cancellations  \\\n",
       "count         18137.000000    18137.000000                  18137.000000   \n",
       "mean              0.806197        0.025087                      0.022440   \n",
       "std               0.645972        0.156393                      0.370078   \n",
       "min               0.000000        0.000000                      0.000000   \n",
       "25%               0.000000        0.000000                      0.000000   \n",
       "50%               1.000000        0.000000                      0.000000   \n",
       "75%               1.000000        0.000000                      0.000000   \n",
       "max               4.000000        1.000000                     13.000000   \n",
       "\n",
       "       no_of_previous_bookings_not_canceled  avg_price_per_room  \\\n",
       "count                          18137.000000        18137.000000   \n",
       "mean                               0.151403          103.478868   \n",
       "std                                1.714135           35.474103   \n",
       "min                                0.000000            0.000000   \n",
       "25%                                0.000000           80.300000   \n",
       "50%                                0.000000           99.450000   \n",
       "75%                                0.000000          120.270000   \n",
       "max                               58.000000          540.000000   \n",
       "\n",
       "       no_of_special_requests  booking_status  \n",
       "count            18137.000000    18137.000000  \n",
       "mean                 0.617522        0.327618  \n",
       "std                  0.787941        0.469357  \n",
       "min                  0.000000        0.000000  \n",
       "25%                  0.000000        0.000000  \n",
       "50%                  0.000000        0.000000  \n",
       "75%                  1.000000        1.000000  \n",
       "max                  5.000000        1.000000  "
      ]
     },
     "execution_count": 64,
     "metadata": {},
     "output_type": "execute_result"
    }
   ],
   "source": [
    "#numerical variables\n",
    "data1.describe()"
   ]
  },
  {
   "cell_type": "markdown",
   "id": "34c4ea6b",
   "metadata": {},
   "source": [
    "#### 2.1.Univariate analysis"
   ]
  },
  {
   "cell_type": "code",
   "execution_count": 65,
   "id": "3a104c31",
   "metadata": {},
   "outputs": [
    {
     "data": {
      "text/plain": [
       "Index(['no_of_adults', 'no_of_children', 'no_of_weekend_nights',\n",
       "       'no_of_week_nights', 'type_of_meal_plan', 'required_car_parking_space',\n",
       "       'room_type_reserved', 'lead_time', 'arrival_year', 'arrival_month',\n",
       "       'arrival_date', 'market_segment_type', 'repeated_guest',\n",
       "       'no_of_previous_cancellations', 'no_of_previous_bookings_not_canceled',\n",
       "       'avg_price_per_room', 'no_of_special_requests', 'booking_status'],\n",
       "      dtype='object')"
      ]
     },
     "execution_count": 65,
     "metadata": {},
     "output_type": "execute_result"
    }
   ],
   "source": [
    "#variables\n",
    "data1.columns"
   ]
  },
  {
   "cell_type": "code",
   "execution_count": 66,
   "id": "2a045b88",
   "metadata": {
    "scrolled": true
   },
   "outputs": [
    {
     "data": {
      "image/png": "[encoded data removed]",
      "text/plain": [
       "<Figure size 432x288 with 1 Axes>"
      ]
     },
     "metadata": {
      "needs_background": "light"
     },
     "output_type": "display_data"
    },
    {
     "data": {
      "image/png": "[encoded data removed]",
      "text/plain": [
       "<Figure size 432x288 with 1 Axes>"
      ]
     },
     "metadata": {
      "needs_background": "light"
     },
     "output_type": "display_data"
    }
   ],
   "source": [
    "#Numerical variables\n",
    "num = ['avg_price_per_room','lead_time']\n",
    "for i in num:\n",
    "    sns.boxplot(data1[i])\n",
    "    plt.show()"
   ]
  },
  {
   "cell_type": "code",
   "execution_count": 67,
   "id": "dd9e427f",
   "metadata": {},
   "outputs": [
    {
     "name": "stdout",
     "output_type": "stream",
     "text": [
      "col_0         Frequency\n",
      "no_of_adults           \n",
      "0                    67\n",
      "1                  3809\n",
      "2                 13104\n",
      "3                  1150\n",
      "4                     7\n",
      "____________________________________________________________________________________________________\n",
      "col_0           Frequency\n",
      "no_of_children           \n",
      "0                   16767\n",
      "1                     814\n",
      "2                     544\n",
      "3                      10\n",
      "9                       2\n",
      "____________________________________________________________________________________________________\n",
      "col_0                 Frequency\n",
      "no_of_weekend_nights           \n",
      "0                          8444\n",
      "1                          4985\n",
      "2                          4535\n",
      "3                            84\n",
      "4                            56\n",
      "5                            19\n",
      "6                            13\n",
      "7                             1\n",
      "____________________________________________________________________________________________________\n",
      "col_0              Frequency\n",
      "no_of_week_nights           \n",
      "0                       1208\n",
      "1                       4727\n",
      "2                       5696\n",
      "3                       3926\n",
      "4                       1505\n",
      "5                        819\n",
      "6                         90\n",
      "7                         57\n",
      "8                         30\n",
      "9                         19\n",
      "10                        31\n",
      "11                         6\n",
      "12                         5\n",
      "13                         3\n",
      "14                         5\n",
      "15                         6\n",
      "16                         1\n",
      "17                         3\n",
      "____________________________________________________________________________________________________\n",
      "col_0              Frequency\n",
      "type_of_meal_plan           \n",
      "0                      13979\n",
      "1                       2543\n",
      "2                       1612\n",
      "3                          3\n",
      "____________________________________________________________________________________________________\n",
      "col_0                       Frequency\n",
      "required_car_parking_space           \n",
      "0                               17563\n",
      "1                                 574\n",
      "____________________________________________________________________________________________________\n",
      "col_0               Frequency\n",
      "room_type_reserved           \n",
      "0                       14061\n",
      "1                        3031\n",
      "2                         344\n",
      "3                         498\n",
      "4                         123\n",
      "5                          77\n",
      "6                           3\n",
      "____________________________________________________________________________________________________\n",
      "col_0          Frequency\n",
      "arrival_month           \n",
      "1                    501\n",
      "2                    853\n",
      "3                   1176\n",
      "4                   1386\n",
      "5                   1305\n",
      "6                   1607\n",
      "7                   1422\n",
      "8                   1868\n",
      "9                   2301\n",
      "10                  2678\n",
      "11                  1505\n",
      "12                  1535\n",
      "____________________________________________________________________________________________________\n",
      "col_0                Frequency\n",
      "market_segment_type           \n",
      "0                         5238\n",
      "1                        11622\n",
      "2                         1029\n",
      "3                           50\n",
      "4                          198\n",
      "____________________________________________________________________________________________________\n",
      "col_0           Frequency\n",
      "repeated_guest           \n",
      "0                   17682\n",
      "1                     455\n",
      "____________________________________________________________________________________________________\n",
      "col_0                         Frequency\n",
      "no_of_previous_cancellations           \n",
      "0                                 17987\n",
      "1                                    80\n",
      "2                                    22\n",
      "3                                    23\n",
      "4                                     6\n",
      "5                                     3\n",
      "6                                     1\n",
      "11                                   13\n",
      "13                                    2\n",
      "____________________________________________________________________________________________________\n",
      "col_0                                 Frequency\n",
      "no_of_previous_bookings_not_canceled           \n",
      "0                                         17731\n",
      "1                                           116\n",
      "2                                            54\n",
      "3                                            40\n",
      "4                                            33\n",
      "5                                            29\n",
      "6                                            17\n",
      "7                                            13\n",
      "8                                            15\n",
      "9                                             6\n",
      "10                                            9\n",
      "11                                            8\n",
      "12                                            7\n",
      "13                                            4\n",
      "14                                            5\n",
      "15                                            2\n",
      "16                                            6\n",
      "17                                            2\n",
      "18                                            5\n",
      "19                                            1\n",
      "20                                            4\n",
      "21                                            2\n",
      "22                                            3\n",
      "23                                            2\n",
      "24                                            1\n",
      "25                                            1\n",
      "26                                            1\n",
      "27                                            1\n",
      "28                                            1\n",
      "30                                            1\n",
      "31                                            1\n",
      "32                                            1\n",
      "33                                            1\n",
      "34                                            1\n",
      "35                                            1\n",
      "36                                            1\n",
      "37                                            1\n",
      "41                                            1\n",
      "43                                            1\n",
      "44                                            1\n",
      "45                                            1\n",
      "46                                            1\n",
      "47                                            1\n",
      "48                                            1\n",
      "50                                            1\n",
      "51                                            1\n",
      "58                                            1\n",
      "____________________________________________________________________________________________________\n",
      "col_0                   Frequency\n",
      "no_of_special_requests           \n",
      "0                            9934\n",
      "1                            5637\n",
      "2                            2191\n",
      "3                             323\n",
      "4                              48\n",
      "5                               4\n",
      "____________________________________________________________________________________________________\n",
      "col_0           Frequency\n",
      "booking_status           \n",
      "0                   12195\n",
      "1                    5942\n",
      "____________________________________________________________________________________________________\n"
     ]
    }
   ],
   "source": [
    "#frequency of the levels in each categorical variables\n",
    "list = ['no_of_adults', 'no_of_children', 'no_of_weekend_nights',\n",
    "       'no_of_week_nights', 'type_of_meal_plan', 'required_car_parking_space',\n",
    "       'room_type_reserved','arrival_month',\n",
    "       'market_segment_type', 'repeated_guest',\n",
    "       'no_of_previous_cancellations', 'no_of_previous_bookings_not_canceled',\n",
    "       'no_of_special_requests', 'booking_status']\n",
    "\n",
    "for i in list:\n",
    "    frq_table=pd.crosstab(data1[i],columns=\"Frequency\")\n",
    "    print(frq_table)\n",
    "    print(\"_\"*100)\n",
    "    "
   ]
  },
  {
   "cell_type": "code",
   "execution_count": 22,
   "id": "f971a23f",
   "metadata": {
    "scrolled": true
   },
   "outputs": [
    {
     "data": {
      "text/plain": [
       "<AxesSubplot:xlabel='avg_price_per_room'>"
      ]
     },
     "execution_count": 22,
     "metadata": {},
     "output_type": "execute_result"
    },
    {
     "data": {
      "image/png": "[encoded data removed]",
      "text/plain": [
       "<Figure size 432x288 with 1 Axes>"
      ]
     },
     "metadata": {
      "needs_background": "light"
     },
     "output_type": "display_data"
    }
   ],
   "source": [
    "#check distribution after removing outlier\n",
    "sns.boxplot(data1['avg_price_per_room'])"
   ]
  },
  {
   "cell_type": "code",
   "execution_count": 23,
   "id": "64ddac76",
   "metadata": {},
   "outputs": [
    {
     "data": {
      "text/plain": [
       "count    18137.000000\n",
       "mean       103.454578\n",
       "std         35.325707\n",
       "min          0.000000\n",
       "25%         80.300000\n",
       "50%         99.450000\n",
       "75%        120.180000\n",
       "max        375.500000\n",
       "Name: avg_price_per_room, dtype: float64"
      ]
     },
     "execution_count": 23,
     "metadata": {},
     "output_type": "execute_result"
    }
   ],
   "source": [
    "data1['avg_price_per_room'].describe()"
   ]
  },
  {
   "cell_type": "code",
   "execution_count": 72,
   "id": "f6793fd0",
   "metadata": {
    "scrolled": true
   },
   "outputs": [
    {
     "data": {
      "image/png": "[encoded data removed]",
      "text/plain": [
       "<Figure size 432x288 with 1 Axes>"
      ]
     },
     "metadata": {
      "needs_background": "light"
     },
     "output_type": "display_data"
    },
    {
     "data": {
      "image/png": "[encoded data removed]",
      "text/plain": [
       "<Figure size 432x288 with 1 Axes>"
      ]
     },
     "metadata": {
      "needs_background": "light"
     },
     "output_type": "display_data"
    },
    {
     "data": {
      "image/png": "[encoded data removed]",
      "text/plain": [
       "<Figure size 432x288 with 1 Axes>"
      ]
     },
     "metadata": {
      "needs_background": "light"
     },
     "output_type": "display_data"
    },
    {
     "data": {
      "image/png": "[encoded data removed]",
      "text/plain": [
       "<Figure size 432x288 with 1 Axes>"
      ]
     },
     "metadata": {
      "needs_background": "light"
     },
     "output_type": "display_data"
    },
    {
     "data": {
      "image/png": "[encoded data removed]",
      "text/plain": [
       "<Figure size 432x288 with 1 Axes>"
      ]
     },
     "metadata": {
      "needs_background": "light"
     },
     "output_type": "display_data"
    },
    {
     "data": {
      "image/png": "[encoded data removed]",
      "text/plain": [
       "<Figure size 432x288 with 1 Axes>"
      ]
     },
     "metadata": {
      "needs_background": "light"
     },
     "output_type": "display_data"
    },
    {
     "data": {
      "image/png": "[encoded data removed]",
      "text/plain": [
       "<Figure size 432x288 with 1 Axes>"
      ]
     },
     "metadata": {
      "needs_background": "light"
     },
     "output_type": "display_data"
    },
    {
     "data": {
      "image/png": "[encoded data removed]",
      "text/plain": [
       "<Figure size 432x288 with 1 Axes>"
      ]
     },
     "metadata": {
      "needs_background": "light"
     },
     "output_type": "display_data"
    },
    {
     "data": {
      "image/png": "[encoded data removed]",
      "text/plain": [
       "<Figure size 432x288 with 1 Axes>"
      ]
     },
     "metadata": {
      "needs_background": "light"
     },
     "output_type": "display_data"
    },
    {
     "data": {
      "image/png": "[encoded data removed]",
      "text/plain": [
       "<Figure size 432x288 with 1 Axes>"
      ]
     },
     "metadata": {
      "needs_background": "light"
     },
     "output_type": "display_data"
    },
    {
     "data": {
      "image/png": "[encoded data removed]",
      "text/plain": [
       "<Figure size 432x288 with 1 Axes>"
      ]
     },
     "metadata": {
      "needs_background": "light"
     },
     "output_type": "display_data"
    },
    {
     "data": {
      "image/png": "[encoded data removed]",
      "text/plain": [
       "<Figure size 432x288 with 1 Axes>"
      ]
     },
     "metadata": {
      "needs_background": "light"
     },
     "output_type": "display_data"
    },
    {
     "data": {
      "image/png": "[encoded data removed]",
      "text/plain": [
       "<Figure size 432x288 with 1 Axes>"
      ]
     },
     "metadata": {
      "needs_background": "light"
     },
     "output_type": "display_data"
    },
    {
     "data": {
      "image/png": "[encoded data removed]",
      "text/plain": [
       "<Figure size 432x288 with 1 Axes>"
      ]
     },
     "metadata": {
      "needs_background": "light"
     },
     "output_type": "display_data"
    }
   ],
   "source": [
    "#bar plot\n",
    "for i in list:\n",
    "    sns.countplot(data1[i],order=data1[i].value_counts().index)\n",
    "    plt.show()"
   ]
  },
  {
   "cell_type": "code",
   "execution_count": 114,
   "id": "1d92fdcc",
   "metadata": {},
   "outputs": [
    {
     "name": "stdout",
     "output_type": "stream",
     "text": [
      "col_0         Frequency\n",
      "no_of_adults           \n",
      "0              0.369411\n",
      "1             21.001268\n",
      "2             72.250096\n",
      "3              6.340630\n",
      "4              0.038595\n",
      "col_0           Frequency\n",
      "no_of_children           \n",
      "0               92.446380\n",
      "1                4.488063\n",
      "2                2.999394\n",
      "3                0.055136\n",
      "9                0.011027\n",
      "col_0                 Frequency\n",
      "no_of_weekend_nights           \n",
      "0                     46.556762\n",
      "1                     27.485251\n",
      "2                     25.004135\n",
      "3                      0.463142\n",
      "4                      0.308761\n",
      "5                      0.104758\n",
      "6                      0.071677\n",
      "7                      0.005514\n",
      "col_0              Frequency\n",
      "no_of_week_nights           \n",
      "0                   6.660418\n",
      "1                  26.062745\n",
      "2                  31.405414\n",
      "3                  21.646358\n",
      "4                   8.297954\n",
      "5                   4.515631\n",
      "6                   0.496223\n",
      "7                   0.314275\n",
      "8                   0.165408\n",
      "9                   0.104758\n",
      "10                  0.170921\n",
      "11                  0.033082\n",
      "12                  0.027568\n",
      "13                  0.016541\n",
      "14                  0.027568\n",
      "15                  0.033082\n",
      "16                  0.005514\n",
      "17                  0.016541\n",
      "col_0              Frequency\n",
      "type_of_meal_plan           \n",
      "0                  77.074489\n",
      "1                  14.021062\n",
      "2                   8.887909\n",
      "3                   0.016541\n",
      "col_0                       Frequency\n",
      "required_car_parking_space           \n",
      "0                           96.835199\n",
      "1                            3.164801\n",
      "col_0               Frequency\n",
      "room_type_reserved           \n",
      "0                   77.526603\n",
      "1                   16.711694\n",
      "2                    1.896675\n",
      "3                    2.745768\n",
      "4                    0.678172\n",
      "5                    0.424547\n",
      "6                    0.016541\n",
      "col_0                Frequency\n",
      "market_segment_type           \n",
      "0                    28.880190\n",
      "1                    64.078955\n",
      "2                     5.673485\n",
      "3                     0.275680\n",
      "4                     1.091691\n",
      "col_0           Frequency\n",
      "repeated_guest           \n",
      "0               97.491316\n",
      "1                2.508684\n",
      "col_0                         Frequency\n",
      "no_of_previous_cancellations           \n",
      "0                             99.172961\n",
      "1                              0.441087\n",
      "2                              0.121299\n",
      "3                              0.126813\n",
      "4                              0.033082\n",
      "5                              0.016541\n",
      "6                              0.005514\n",
      "11                             0.071677\n",
      "13                             0.011027\n",
      "col_0                                 Frequency\n",
      "no_of_previous_bookings_not_canceled           \n",
      "0                                     97.761482\n",
      "1                                      0.639577\n",
      "2                                      0.297734\n",
      "3                                      0.220544\n",
      "4                                      0.181949\n",
      "5                                      0.159894\n",
      "6                                      0.093731\n",
      "7                                      0.071677\n",
      "8                                      0.082704\n",
      "9                                      0.033082\n",
      "10                                     0.049622\n",
      "11                                     0.044109\n",
      "12                                     0.038595\n",
      "13                                     0.022054\n",
      "14                                     0.027568\n",
      "15                                     0.011027\n",
      "16                                     0.033082\n",
      "17                                     0.011027\n",
      "18                                     0.027568\n",
      "19                                     0.005514\n",
      "20                                     0.022054\n",
      "21                                     0.011027\n",
      "22                                     0.016541\n",
      "23                                     0.011027\n",
      "24                                     0.005514\n",
      "25                                     0.005514\n",
      "26                                     0.005514\n",
      "27                                     0.005514\n",
      "28                                     0.005514\n",
      "30                                     0.005514\n",
      "31                                     0.005514\n",
      "32                                     0.005514\n",
      "33                                     0.005514\n",
      "34                                     0.005514\n",
      "35                                     0.005514\n",
      "36                                     0.005514\n",
      "37                                     0.005514\n",
      "41                                     0.005514\n",
      "43                                     0.005514\n",
      "44                                     0.005514\n",
      "45                                     0.005514\n",
      "46                                     0.005514\n",
      "47                                     0.005514\n",
      "48                                     0.005514\n",
      "50                                     0.005514\n",
      "51                                     0.005514\n",
      "58                                     0.005514\n",
      "col_0                   Frequency\n",
      "no_of_special_requests           \n",
      "0                       54.772013\n",
      "1                       31.080112\n",
      "2                       12.080278\n",
      "3                        1.780890\n",
      "4                        0.264652\n",
      "5                        0.022054\n",
      "col_0           Frequency\n",
      "booking_status           \n",
      "0               67.238242\n",
      "1               32.761758\n"
     ]
    }
   ],
   "source": [
    "#Percentage wise frequency\n",
    "for i in list:\n",
    "    table=pd.crosstab(data1[i],columns=\"Frequency\")\n",
    "    clarity_coltotal=table.sum(axis=0)\n",
    "    print(table.div(clarity_coltotal,axis=1)*100)\n"
   ]
  },
  {
   "cell_type": "markdown",
   "id": "cf34a687",
   "metadata": {},
   "source": [
    "#### 2.2. Bivariate Analysis"
   ]
  },
  {
   "cell_type": "code",
   "execution_count": 74,
   "id": "0eb0265a",
   "metadata": {
    "scrolled": true
   },
   "outputs": [
    {
     "data": {
      "image/png": "[encoded data removed]",
      "text/plain": [
       "<Figure size 1080x288 with 1 Axes>"
      ]
     },
     "metadata": {
      "needs_background": "light"
     },
     "output_type": "display_data"
    },
    {
     "data": {
      "image/png": "[encoded data removed]",
      "text/plain": [
       "<Figure size 1080x288 with 1 Axes>"
      ]
     },
     "metadata": {
      "needs_background": "light"
     },
     "output_type": "display_data"
    }
   ],
   "source": [
    "#numerical variables with target\n",
    "num = ['avg_price_per_room','lead_time']\n",
    "for i in num:    \n",
    "    data1.groupby(['booking_status'])[i].mean().plot(kind='bar',figsize=(15,4),color=\"blue\",fontsize=10,edgecolor=\"black\")\n",
    "    plt.xlabel('booking_status',fontsize=12)\n",
    "    plt.ylabel('Average'+ i,fontsize=12)\n",
    "    plt.show()"
   ]
  },
  {
   "cell_type": "code",
   "execution_count": 75,
   "id": "8f90d755",
   "metadata": {},
   "outputs": [
    {
     "data": {
      "image/png": "[encoded data removed]",
      "text/plain": [
       "<Figure size 432x288 with 1 Axes>"
      ]
     },
     "metadata": {
      "needs_background": "light"
     },
     "output_type": "display_data"
    },
    {
     "data": {
      "image/png": "[encoded data removed]",
      "text/plain": [
       "<Figure size 432x288 with 1 Axes>"
      ]
     },
     "metadata": {
      "needs_background": "light"
     },
     "output_type": "display_data"
    }
   ],
   "source": [
    "#Box plot\n",
    "num = ['avg_price_per_room','lead_time']\n",
    "for i in num:     \n",
    "    sns.boxplot(x=\"booking_status\",y=i,data=data1)\n",
    "    plt.xlabel('booking_status',fontsize=12)\n",
    "    plt.ylabel(i,fontsize=12)\n",
    "    plt.show()"
   ]
  },
  {
   "cell_type": "code",
   "execution_count": 77,
   "id": "dc2b6d38",
   "metadata": {
    "scrolled": true
   },
   "outputs": [
    {
     "data": {
      "text/plain": [
       "<Figure size 360x360 with 0 Axes>"
      ]
     },
     "metadata": {},
     "output_type": "display_data"
    },
    {
     "data": {
      "image/png": "[encoded data removed]",
      "text/plain": [
       "<Figure size 432x288 with 1 Axes>"
      ]
     },
     "metadata": {
      "needs_background": "light"
     },
     "output_type": "display_data"
    },
    {
     "data": {
      "text/plain": [
       "<Figure size 360x360 with 0 Axes>"
      ]
     },
     "metadata": {},
     "output_type": "display_data"
    },
    {
     "data": {
      "image/png": "[encoded data removed]",
      "text/plain": [
       "<Figure size 432x288 with 1 Axes>"
      ]
     },
     "metadata": {
      "needs_background": "light"
     },
     "output_type": "display_data"
    },
    {
     "data": {
      "text/plain": [
       "<Figure size 360x360 with 0 Axes>"
      ]
     },
     "metadata": {},
     "output_type": "display_data"
    },
    {
     "data": {
      "image/png": "[encoded data removed]",
      "text/plain": [
       "<Figure size 432x288 with 1 Axes>"
      ]
     },
     "metadata": {
      "needs_background": "light"
     },
     "output_type": "display_data"
    },
    {
     "data": {
      "text/plain": [
       "<Figure size 360x360 with 0 Axes>"
      ]
     },
     "metadata": {},
     "output_type": "display_data"
    },
    {
     "data": {
      "image/png": "[encoded data removed]",
      "text/plain": [
       "<Figure size 432x288 with 1 Axes>"
      ]
     },
     "metadata": {
      "needs_background": "light"
     },
     "output_type": "display_data"
    },
    {
     "data": {
      "text/plain": [
       "<Figure size 360x360 with 0 Axes>"
      ]
     },
     "metadata": {},
     "output_type": "display_data"
    },
    {
     "data": {
      "image/png": "[encoded data removed]",
      "text/plain": [
       "<Figure size 432x288 with 1 Axes>"
      ]
     },
     "metadata": {
      "needs_background": "light"
     },
     "output_type": "display_data"
    },
    {
     "data": {
      "text/plain": [
       "<Figure size 360x360 with 0 Axes>"
      ]
     },
     "metadata": {},
     "output_type": "display_data"
    },
    {
     "data": {
      "image/png": "[encoded data removed]",
      "text/plain": [
       "<Figure size 432x288 with 1 Axes>"
      ]
     },
     "metadata": {
      "needs_background": "light"
     },
     "output_type": "display_data"
    },
    {
     "data": {
      "text/plain": [
       "<Figure size 360x360 with 0 Axes>"
      ]
     },
     "metadata": {},
     "output_type": "display_data"
    },
    {
     "data": {
      "image/png": "[encoded data removed]",
      "text/plain": [
       "<Figure size 432x288 with 1 Axes>"
      ]
     },
     "metadata": {
      "needs_background": "light"
     },
     "output_type": "display_data"
    },
    {
     "data": {
      "text/plain": [
       "<Figure size 360x360 with 0 Axes>"
      ]
     },
     "metadata": {},
     "output_type": "display_data"
    },
    {
     "data": {
      "image/png": "[encoded data removed]",
      "text/plain": [
       "<Figure size 432x288 with 1 Axes>"
      ]
     },
     "metadata": {
      "needs_background": "light"
     },
     "output_type": "display_data"
    },
    {
     "data": {
      "text/plain": [
       "<Figure size 360x360 with 0 Axes>"
      ]
     },
     "metadata": {},
     "output_type": "display_data"
    },
    {
     "data": {
      "image/png": "[encoded data removed]",
      "text/plain": [
       "<Figure size 432x288 with 1 Axes>"
      ]
     },
     "metadata": {
      "needs_background": "light"
     },
     "output_type": "display_data"
    },
    {
     "data": {
      "text/plain": [
       "<Figure size 360x360 with 0 Axes>"
      ]
     },
     "metadata": {},
     "output_type": "display_data"
    },
    {
     "data": {
      "image/png": "[encoded data removed]",
      "text/plain": [
       "<Figure size 432x288 with 1 Axes>"
      ]
     },
     "metadata": {
      "needs_background": "light"
     },
     "output_type": "display_data"
    },
    {
     "data": {
      "text/plain": [
       "<Figure size 360x360 with 0 Axes>"
      ]
     },
     "metadata": {},
     "output_type": "display_data"
    },
    {
     "data": {
      "image/png": "[encoded data removed]",
      "text/plain": [
       "<Figure size 432x288 with 1 Axes>"
      ]
     },
     "metadata": {
      "needs_background": "light"
     },
     "output_type": "display_data"
    },
    {
     "data": {
      "text/plain": [
       "<Figure size 360x360 with 0 Axes>"
      ]
     },
     "metadata": {},
     "output_type": "display_data"
    },
    {
     "data": {
      "image/png": "[encoded data removed]",
      "text/plain": [
       "<Figure size 432x288 with 1 Axes>"
      ]
     },
     "metadata": {
      "needs_background": "light"
     },
     "output_type": "display_data"
    }
   ],
   "source": [
    "# Groupby aggregate using barplot (catergorical / discrete numerical with target)\n",
    "\n",
    "cat_disc = ['no_of_adults', 'no_of_children', 'no_of_weekend_nights',\n",
    "       'no_of_week_nights', 'type_of_meal_plan', 'required_car_parking_space',\n",
    "       'room_type_reserved',\n",
    "       'market_segment_type', 'repeated_guest',\n",
    "       'no_of_previous_cancellations', 'no_of_previous_bookings_not_canceled',\n",
    "       'no_of_special_requests']\n",
    "\n",
    "for i in cat_disc:    \n",
    "    plt.figure(figsize=(5,5))\n",
    "    pd.crosstab(data1[i], data1['booking_status'],normalize=True).plot(kind='bar',rot=0)\n",
    "    \n",
    "    plt.xlabel(i,fontsize=12)\n",
    "    plt.ylabel('Percentage',fontsize=12)\n",
    "    plt.title('Percentage' + ' vs '+i ,fontsize=14)\n",
    "    plt.show()\n",
    "   "
   ]
  },
  {
   "cell_type": "markdown",
   "id": "5a4c7325",
   "metadata": {},
   "source": [
    "#### INSIGHTS:"
   ]
  },
  {
   "cell_type": "code",
   "execution_count": null,
   "id": "d4f3591d",
   "metadata": {},
   "outputs": [],
   "source": []
  },
  {
   "cell_type": "markdown",
   "id": "ba97aa77",
   "metadata": {},
   "source": [
    "### 3. DATA PREPROCESSING"
   ]
  },
  {
   "cell_type": "markdown",
   "id": "0f604f3e",
   "metadata": {},
   "source": [
    "* Binning "
   ]
  },
  {
   "cell_type": "code",
   "execution_count": null,
   "id": "cf22dc62",
   "metadata": {},
   "outputs": [],
   "source": []
  },
  {
   "cell_type": "markdown",
   "id": "4c661540",
   "metadata": {},
   "source": [
    "* BINNING"
   ]
  },
  {
   "cell_type": "code",
   "execution_count": 69,
   "id": "fc000da4",
   "metadata": {},
   "outputs": [],
   "source": [
    "# Lets bin the variable \"no_of_previous_bookings_not_canceled\" since it has lot of very less frequent numbers\n",
    "for i in range(len(data1['no_of_previous_bookings_not_canceled'])):\n",
    "    if data1['no_of_previous_bookings_not_canceled'][i] <= 3:\n",
    "        data1['no_of_previous_bookings_not_canceled'][i] = 1\n",
    "    elif data1['no_of_previous_bookings_not_canceled'][i]>3 and data1['no_of_previous_bookings_not_canceled'][i]<=6:\n",
    "        data1['no_of_previous_bookings_not_canceled'][i] = 2\n",
    "    elif data1['no_of_previous_bookings_not_canceled'][i]>6 and data1['no_of_previous_bookings_not_canceled'][i]<=9:\n",
    "        data1['no_of_previous_bookings_not_canceled'][i] = 3\n",
    "    elif data1['no_of_previous_bookings_not_canceled'][i]>9 and data1['no_of_previous_bookings_not_canceled'][i]<=12:\n",
    "        data1['no_of_previous_bookings_not_canceled'][i] = 4\n",
    "    else:\n",
    "        data1['no_of_previous_bookings_not_canceled'][i] = 5    "
   ]
  },
  {
   "cell_type": "code",
   "execution_count": 71,
   "id": "b01b4f5e",
   "metadata": {
    "scrolled": true
   },
   "outputs": [
    {
     "data": {
      "text/plain": [
       "1    17965\n",
       "2      112\n",
       "5       36\n",
       "3       15\n",
       "4        9\n",
       "Name: no_of_previous_bookings_not_canceled, dtype: int64"
      ]
     },
     "execution_count": 71,
     "metadata": {},
     "output_type": "execute_result"
    }
   ],
   "source": [
    "data1['no_of_previous_bookings_not_canceled'].value_counts()"
   ]
  },
  {
   "cell_type": "code",
   "execution_count": 83,
   "id": "f95ce389",
   "metadata": {},
   "outputs": [],
   "source": [
    "# Binning variable \"number of children\"\n",
    "for i in range(len(data1['no_of_children'])):\n",
    "    if data1['no_of_children'][i] == 0:\n",
    "        data1['no_of_children'][i] = 1\n",
    "        continue\n",
    "    elif data1['no_of_children'][i]==2:\n",
    "        data1['no_of_children'][i] = 2\n",
    "        continue\n",
    "    else:\n",
    "        data1['no_of_children'][i] = 3\n",
    "        "
   ]
  },
  {
   "cell_type": "code",
   "execution_count": 85,
   "id": "3e4f190b",
   "metadata": {},
   "outputs": [
    {
     "data": {
      "text/plain": [
       "1    16766\n",
       "3      827\n",
       "2      544\n",
       "Name: no_of_children, dtype: int64"
      ]
     },
     "execution_count": 85,
     "metadata": {},
     "output_type": "execute_result"
    }
   ],
   "source": [
    "data1['no_of_children'].value_counts()"
   ]
  },
  {
   "cell_type": "markdown",
   "id": "b7461821",
   "metadata": {},
   "source": [
    "* Dealing with outliers"
   ]
  },
  {
   "cell_type": "code",
   "execution_count": 21,
   "id": "fff885ee",
   "metadata": {},
   "outputs": [
    {
     "data": {
      "text/plain": [
       "99.45"
      ]
     },
     "execution_count": 21,
     "metadata": {},
     "output_type": "execute_result"
    }
   ],
   "source": [
    "# the last datapoint in avg_price_room seemed to be an outlier so lets replace with median(skewed)\n",
    "data1['avg_price_per_room'][319] = np.median(data1['avg_price_per_room'])\n",
    "data1['avg_price_per_room'][319] "
   ]
  },
  {
   "cell_type": "code",
   "execution_count": 22,
   "id": "6e9ec45e",
   "metadata": {
    "scrolled": true
   },
   "outputs": [
    {
     "data": {
      "text/plain": [
       "<AxesSubplot:xlabel='avg_price_per_room'>"
      ]
     },
     "execution_count": 22,
     "metadata": {},
     "output_type": "execute_result"
    },
    {
     "data": {
      "image/png": "[encoded data removed]",
      "text/plain": [
       "<Figure size 432x288 with 1 Axes>"
      ]
     },
     "metadata": {
      "needs_background": "light"
     },
     "output_type": "display_data"
    }
   ],
   "source": [
    "#check distribution after removing outlier\n",
    "sns.boxplot(data1['avg_price_per_room'])"
   ]
  },
  {
   "cell_type": "code",
   "execution_count": 23,
   "id": "ab26de72",
   "metadata": {},
   "outputs": [
    {
     "data": {
      "text/plain": [
       "count    18137.000000\n",
       "mean       103.454578\n",
       "std         35.325707\n",
       "min          0.000000\n",
       "25%         80.300000\n",
       "50%         99.450000\n",
       "75%        120.180000\n",
       "max        375.500000\n",
       "Name: avg_price_per_room, dtype: float64"
      ]
     },
     "execution_count": 23,
     "metadata": {},
     "output_type": "execute_result"
    }
   ],
   "source": [
    "data1['avg_price_per_room'].describe()"
   ]
  },
  {
   "cell_type": "code",
   "execution_count": null,
   "id": "f96788ea",
   "metadata": {},
   "outputs": [],
   "source": []
  },
  {
   "cell_type": "code",
   "execution_count": null,
   "id": "6351b4fc",
   "metadata": {},
   "outputs": [],
   "source": []
  },
  {
   "cell_type": "code",
   "execution_count": null,
   "id": "b74d6bef",
   "metadata": {},
   "outputs": [],
   "source": []
  },
  {
   "cell_type": "code",
   "execution_count": null,
   "id": "0df94c36",
   "metadata": {},
   "outputs": [],
   "source": []
  },
  {
   "cell_type": "code",
   "execution_count": null,
   "id": "a7b492d3",
   "metadata": {},
   "outputs": [],
   "source": []
  },
  {
   "cell_type": "code",
   "execution_count": null,
   "id": "a79c4c20",
   "metadata": {},
   "outputs": [],
   "source": []
  },
  {
   "cell_type": "code",
   "execution_count": null,
   "id": "8b68642f",
   "metadata": {},
   "outputs": [],
   "source": []
  },
  {
   "cell_type": "code",
   "execution_count": null,
   "id": "e521f836",
   "metadata": {},
   "outputs": [],
   "source": []
  },
  {
   "cell_type": "code",
   "execution_count": null,
   "id": "578d0744",
   "metadata": {},
   "outputs": [],
   "source": []
  },
  {
   "cell_type": "code",
   "execution_count": null,
   "id": "3cbc66f5",
   "metadata": {},
   "outputs": [],
   "source": []
  },
  {
   "cell_type": "code",
   "execution_count": null,
   "id": "ef5faf38",
   "metadata": {},
   "outputs": [],
   "source": []
  },
  {
   "cell_type": "code",
   "execution_count": null,
   "id": "2c613a2b",
   "metadata": {},
   "outputs": [],
   "source": []
  },
  {
   "cell_type": "code",
   "execution_count": null,
   "id": "d8adef72",
   "metadata": {},
   "outputs": [],
   "source": []
  },
  {
   "cell_type": "code",
   "execution_count": 283,
   "id": "1b4f06d1",
   "metadata": {},
   "outputs": [
    {
     "data": {
      "text/plain": [
       "103.45479874283252"
      ]
     },
     "execution_count": 283,
     "metadata": {},
     "output_type": "execute_result"
    }
   ],
   "source": [
    "\n",
    "data1['avg_price_per_room'][319] "
   ]
  },
  {
   "cell_type": "code",
   "execution_count": 284,
   "id": "521c24db",
   "metadata": {
    "scrolled": true
   },
   "outputs": [
    {
     "data": {
      "text/plain": [
       "0    12195\n",
       "1     5942\n",
       "Name: booking_status, dtype: int64"
      ]
     },
     "execution_count": 284,
     "metadata": {},
     "output_type": "execute_result"
    }
   ],
   "source": [
    "data1[\"booking_status\"].value_counts()"
   ]
  },
  {
   "cell_type": "markdown",
   "id": "27db71e0",
   "metadata": {},
   "source": [
    "* The dataset is highly imbalanced , it shouldbe balanced for the model to train evenly on all classes"
   ]
  },
  {
   "cell_type": "code",
   "execution_count": 285,
   "id": "e4ac2e7a",
   "metadata": {},
   "outputs": [],
   "source": [
    "# splitting dependent and indepenent variable\n",
    "X = data1.drop(\"booking_status\",axis=1)\n",
    "y = data1.booking_status"
   ]
  },
  {
   "cell_type": "code",
   "execution_count": 122,
   "id": "9674da65",
   "metadata": {},
   "outputs": [],
   "source": [
    "X.drop([ 'arrival_year','arrival_month',\n",
    "      'arrival_date'],axis=1,inplace=True)"
   ]
  },
  {
   "cell_type": "code",
   "execution_count": 286,
   "id": "fdd0a703",
   "metadata": {},
   "outputs": [
    {
     "data": {
      "text/html": [
       "<div>\n",
       "<style scoped>\n",
       "    .dataframe tbody tr th:only-of-type {\n",
       "        vertical-align: middle;\n",
       "    }\n",
       "\n",
       "    .dataframe tbody tr th {\n",
       "        vertical-align: top;\n",
       "    }\n",
       "\n",
       "    .dataframe thead th {\n",
       "        text-align: right;\n",
       "    }\n",
       "</style>\n",
       "<table border=\"1\" class=\"dataframe\">\n",
       "  <thead>\n",
       "    <tr style=\"text-align: right;\">\n",
       "      <th></th>\n",
       "      <th>no_of_adults</th>\n",
       "      <th>no_of_children</th>\n",
       "      <th>no_of_weekend_nights</th>\n",
       "      <th>no_of_week_nights</th>\n",
       "      <th>required_car_parking_space</th>\n",
       "      <th>lead_time</th>\n",
       "      <th>arrival_year</th>\n",
       "      <th>arrival_month</th>\n",
       "      <th>arrival_date</th>\n",
       "      <th>repeated_guest</th>\n",
       "      <th>...</th>\n",
       "      <th>market_segment_type_4</th>\n",
       "      <th>type_of_meal_plan_1</th>\n",
       "      <th>type_of_meal_plan_2</th>\n",
       "      <th>type_of_meal_plan_3</th>\n",
       "      <th>room_type_reserved_1</th>\n",
       "      <th>room_type_reserved_2</th>\n",
       "      <th>room_type_reserved_3</th>\n",
       "      <th>room_type_reserved_4</th>\n",
       "      <th>room_type_reserved_5</th>\n",
       "      <th>room_type_reserved_6</th>\n",
       "    </tr>\n",
       "  </thead>\n",
       "  <tbody>\n",
       "    <tr>\n",
       "      <th>0</th>\n",
       "      <td>2</td>\n",
       "      <td>0</td>\n",
       "      <td>1</td>\n",
       "      <td>4</td>\n",
       "      <td>0</td>\n",
       "      <td>118</td>\n",
       "      <td>2017</td>\n",
       "      <td>12</td>\n",
       "      <td>28</td>\n",
       "      <td>0</td>\n",
       "      <td>...</td>\n",
       "      <td>0</td>\n",
       "      <td>0</td>\n",
       "      <td>0</td>\n",
       "      <td>0</td>\n",
       "      <td>0</td>\n",
       "      <td>0</td>\n",
       "      <td>0</td>\n",
       "      <td>0</td>\n",
       "      <td>0</td>\n",
       "      <td>0</td>\n",
       "    </tr>\n",
       "    <tr>\n",
       "      <th>1</th>\n",
       "      <td>2</td>\n",
       "      <td>1</td>\n",
       "      <td>0</td>\n",
       "      <td>2</td>\n",
       "      <td>0</td>\n",
       "      <td>17</td>\n",
       "      <td>2018</td>\n",
       "      <td>4</td>\n",
       "      <td>14</td>\n",
       "      <td>0</td>\n",
       "      <td>...</td>\n",
       "      <td>0</td>\n",
       "      <td>0</td>\n",
       "      <td>0</td>\n",
       "      <td>0</td>\n",
       "      <td>0</td>\n",
       "      <td>0</td>\n",
       "      <td>0</td>\n",
       "      <td>0</td>\n",
       "      <td>0</td>\n",
       "      <td>0</td>\n",
       "    </tr>\n",
       "    <tr>\n",
       "      <th>2</th>\n",
       "      <td>1</td>\n",
       "      <td>0</td>\n",
       "      <td>1</td>\n",
       "      <td>5</td>\n",
       "      <td>0</td>\n",
       "      <td>349</td>\n",
       "      <td>2018</td>\n",
       "      <td>10</td>\n",
       "      <td>4</td>\n",
       "      <td>0</td>\n",
       "      <td>...</td>\n",
       "      <td>0</td>\n",
       "      <td>0</td>\n",
       "      <td>0</td>\n",
       "      <td>0</td>\n",
       "      <td>0</td>\n",
       "      <td>0</td>\n",
       "      <td>0</td>\n",
       "      <td>0</td>\n",
       "      <td>0</td>\n",
       "      <td>0</td>\n",
       "    </tr>\n",
       "    <tr>\n",
       "      <th>3</th>\n",
       "      <td>1</td>\n",
       "      <td>0</td>\n",
       "      <td>2</td>\n",
       "      <td>4</td>\n",
       "      <td>0</td>\n",
       "      <td>69</td>\n",
       "      <td>2018</td>\n",
       "      <td>6</td>\n",
       "      <td>12</td>\n",
       "      <td>0</td>\n",
       "      <td>...</td>\n",
       "      <td>0</td>\n",
       "      <td>0</td>\n",
       "      <td>0</td>\n",
       "      <td>0</td>\n",
       "      <td>0</td>\n",
       "      <td>0</td>\n",
       "      <td>0</td>\n",
       "      <td>0</td>\n",
       "      <td>0</td>\n",
       "      <td>0</td>\n",
       "    </tr>\n",
       "    <tr>\n",
       "      <th>4</th>\n",
       "      <td>2</td>\n",
       "      <td>0</td>\n",
       "      <td>0</td>\n",
       "      <td>4</td>\n",
       "      <td>0</td>\n",
       "      <td>11</td>\n",
       "      <td>2018</td>\n",
       "      <td>1</td>\n",
       "      <td>20</td>\n",
       "      <td>0</td>\n",
       "      <td>...</td>\n",
       "      <td>0</td>\n",
       "      <td>1</td>\n",
       "      <td>0</td>\n",
       "      <td>0</td>\n",
       "      <td>0</td>\n",
       "      <td>0</td>\n",
       "      <td>0</td>\n",
       "      <td>0</td>\n",
       "      <td>0</td>\n",
       "      <td>0</td>\n",
       "    </tr>\n",
       "  </tbody>\n",
       "</table>\n",
       "<p>5 rows × 27 columns</p>\n",
       "</div>"
      ],
      "text/plain": [
       "   no_of_adults  no_of_children  no_of_weekend_nights  no_of_week_nights  \\\n",
       "0             2               0                     1                  4   \n",
       "1             2               1                     0                  2   \n",
       "2             1               0                     1                  5   \n",
       "3             1               0                     2                  4   \n",
       "4             2               0                     0                  4   \n",
       "\n",
       "   required_car_parking_space  lead_time  arrival_year  arrival_month  \\\n",
       "0                           0        118          2017             12   \n",
       "1                           0         17          2018              4   \n",
       "2                           0        349          2018             10   \n",
       "3                           0         69          2018              6   \n",
       "4                           0         11          2018              1   \n",
       "\n",
       "   arrival_date  repeated_guest  ...  market_segment_type_4  \\\n",
       "0            28               0  ...                      0   \n",
       "1            14               0  ...                      0   \n",
       "2             4               0  ...                      0   \n",
       "3            12               0  ...                      0   \n",
       "4            20               0  ...                      0   \n",
       "\n",
       "   type_of_meal_plan_1  type_of_meal_plan_2  type_of_meal_plan_3  \\\n",
       "0                    0                    0                    0   \n",
       "1                    0                    0                    0   \n",
       "2                    0                    0                    0   \n",
       "3                    0                    0                    0   \n",
       "4                    1                    0                    0   \n",
       "\n",
       "   room_type_reserved_1  room_type_reserved_2  room_type_reserved_3  \\\n",
       "0                     0                     0                     0   \n",
       "1                     0                     0                     0   \n",
       "2                     0                     0                     0   \n",
       "3                     0                     0                     0   \n",
       "4                     0                     0                     0   \n",
       "\n",
       "   room_type_reserved_4  room_type_reserved_5  room_type_reserved_6  \n",
       "0                     0                     0                     0  \n",
       "1                     0                     0                     0  \n",
       "2                     0                     0                     0  \n",
       "3                     0                     0                     0  \n",
       "4                     0                     0                     0  \n",
       "\n",
       "[5 rows x 27 columns]"
      ]
     },
     "execution_count": 286,
     "metadata": {},
     "output_type": "execute_result"
    }
   ],
   "source": [
    "X = pd.get_dummies(X,columns=['market_segment_type','type_of_meal_plan','room_type_reserved'],drop_first=True)\n",
    "X.head()"
   ]
  },
  {
   "cell_type": "markdown",
   "id": "2d9b0174",
   "metadata": {},
   "source": [
    "#### SPLITTING DATASET"
   ]
  },
  {
   "cell_type": "code",
   "execution_count": 287,
   "id": "104573e9",
   "metadata": {},
   "outputs": [],
   "source": [
    "#Splitting the data TRAIN TEST\n",
    "X_train,X_test,y_train,y_test = train_test_split(X,y,test_size=0.25,stratify=y,random_state=42)"
   ]
  },
  {
   "cell_type": "code",
   "execution_count": 288,
   "id": "44aa44bb",
   "metadata": {},
   "outputs": [
    {
     "name": "stdout",
     "output_type": "stream",
     "text": [
      "(13602, 27)\n",
      "(4535, 27)\n"
     ]
    }
   ],
   "source": [
    "print(X_train.shape)\n",
    "print(X_test.shape)"
   ]
  },
  {
   "cell_type": "code",
   "execution_count": 245,
   "id": "9ec89343",
   "metadata": {
    "collapsed": true
   },
   "outputs": [
    {
     "data": {
      "text/plain": [
       "0    0.672401\n",
       "1    0.327599\n",
       "Name: booking_status, dtype: float64"
      ]
     },
     "execution_count": 245,
     "metadata": {},
     "output_type": "execute_result"
    }
   ],
   "source": [
    "y_train.value_counts()/len(y_train)"
   ]
  },
  {
   "cell_type": "markdown",
   "id": "321e566e",
   "metadata": {},
   "source": [
    "* BALANCING THE DATASET USING SMOTE"
   ]
  },
  {
   "cell_type": "code",
   "execution_count": 127,
   "id": "20449737",
   "metadata": {},
   "outputs": [],
   "source": [
    "#pip install imblearn==0.0\n",
    "#from imblearn.over_sampling import BorderlineSMOTE\n",
    "#from imblearn.over_sampling import SVMSMOTE"
   ]
  },
  {
   "cell_type": "code",
   "execution_count": 289,
   "id": "ff3d108b",
   "metadata": {},
   "outputs": [
    {
     "name": "stdout",
     "output_type": "stream",
     "text": [
      "Class=0, n=9146 (50.000%)\n",
      "Class=1, n=9146 (50.000%)\n"
     ]
    },
    {
     "data": {
      "image/png": "[encoded data removed]",
      "text/plain": [
       "<Figure size 432x288 with 1 Axes>"
      ]
     },
     "metadata": {
      "needs_background": "light"
     },
     "output_type": "display_data"
    }
   ],
   "source": [
    "# transform the dataset\n",
    "oversample = SMOTE()\n",
    "X_train, y_train = oversample.fit_resample(X_train, y_train)\n",
    "# summarize distribution\n",
    "counter = Counter(y_train)\n",
    "for k,v in counter.items():\n",
    "    per = v / len(y_train) * 100\n",
    "    print('Class=%d, n=%d (%.3f%%)' % (k, v, per))\n",
    "# plot the distribution\n",
    "plt.bar(counter.keys(), counter.values())\n",
    "plt.show()"
   ]
  },
  {
   "cell_type": "code",
   "execution_count": 247,
   "id": "106c8a60",
   "metadata": {},
   "outputs": [
    {
     "data": {
      "text/plain": [
       "0    0.5\n",
       "1    0.5\n",
       "Name: booking_status, dtype: float64"
      ]
     },
     "execution_count": 247,
     "metadata": {},
     "output_type": "execute_result"
    }
   ],
   "source": [
    "y_train.value_counts()/len(y_train)"
   ]
  },
  {
   "cell_type": "markdown",
   "id": "8aedaacb",
   "metadata": {},
   "source": [
    "### 4.BUILDING MACHINE LEARNING MODELS"
   ]
  },
  {
   "cell_type": "markdown",
   "id": "e5846b3f",
   "metadata": {},
   "source": [
    "#### MODEL PERFORMANCE USING THEIR DEFAULT PARAMETER"
   ]
  },
  {
   "cell_type": "code",
   "execution_count": 310,
   "id": "46196dfb",
   "metadata": {},
   "outputs": [],
   "source": [
    "#models\n",
    "dt = DecisionTreeClassifier(random_state=42) #decision tree\n",
    "rf = RandomForestClassifier(random_state=42) #random forest\n",
    "ab = AdaBoostClassifier(random_state=42) #adaboost\n",
    "gb = GradientBoostingClassifier(random_state=42) #gradientboost\n",
    "knn = KNeighborsClassifier() #knn \n",
    "bc = BaggingClassifier(random_state=42) #bagging"
   ]
  },
  {
   "cell_type": "code",
   "execution_count": 311,
   "id": "adbca9eb",
   "metadata": {},
   "outputs": [],
   "source": [
    "# evaluate a model using kfold cross validation\n",
    "def evaluate_model(X, y, model):\n",
    "     # 5folds 10times on differnt samples(random state is not specified)\n",
    "    cv = RepeatedStratifiedKFold(n_splits=5, n_repeats=10)\n",
    "     # evaluate model\n",
    "    scores = cross_val_score(model, X, y, scoring='accuracy', cv=cv, n_jobs=-1)\n",
    "    return np.mean(scores)"
   ]
  },
  {
   "cell_type": "code",
   "execution_count": 312,
   "id": "4383f41c",
   "metadata": {
    "scrolled": true
   },
   "outputs": [
    {
     "name": "stdout",
     "output_type": "stream",
     "text": [
      "DecisionTreeClassifier(random_state=42) : 0.872621952267311\n",
      "RandomForestClassifier(random_state=42) : 0.9089984760122474\n",
      "AdaBoostClassifier(random_state=42) : 0.8141754993155579\n",
      "GradientBoostingClassifier(random_state=42) : 0.8416301962057651\n",
      "KNeighborsClassifier() : 0.813858511656138\n",
      "BaggingClassifier(random_state=42) : 0.8996885156711936\n"
     ]
    }
   ],
   "source": [
    "#cross validation scores on train data\n",
    "L = [dt,rf,ab,gb,knn,bc]\n",
    "for i in L:\n",
    "    res = evaluate_model(X_train, y_train, i)\n",
    "    print(i,\":\",res)\n",
    "#note: this can be done before splitting the data into validation set    "
   ]
  },
  {
   "cell_type": "code",
   "execution_count": 313,
   "id": "5571fff0",
   "metadata": {},
   "outputs": [
    {
     "name": "stdout",
     "output_type": "stream",
     "text": [
      "DecisionTreeClassifier(random_state=42) : 0.8485115766262403\n",
      "RandomForestClassifier(random_state=42) : 0.8780595369349504\n",
      "AdaBoostClassifier(random_state=42) : 0.7927232635060639\n",
      "GradientBoostingClassifier(random_state=42) : 0.8224917309812569\n",
      "KNeighborsClassifier() : 0.760529217199559\n",
      "BaggingClassifier(random_state=42) : 0.8672546857772878\n"
     ]
    }
   ],
   "source": [
    "# default model performance on test data\n",
    "for i in L:\n",
    "    model = i.fit(X_train,y_train)\n",
    "    pred = model.predict(X_test)\n",
    "    score = mat.accuracy_score(y_test,pred)\n",
    "    print(i,\":\",score)"
   ]
  },
  {
   "cell_type": "markdown",
   "id": "14a0947d",
   "metadata": {},
   "source": [
    "##### PLOT GRAPH OF FEATURE IMPORTANCE USING RANDOM FOREST MODEL"
   ]
  },
  {
   "cell_type": "code",
   "execution_count": 136,
   "id": "c74a1897",
   "metadata": {},
   "outputs": [
    {
     "data": {
      "image/png": "[encoded data removed]",
      "text/plain": [
       "<Figure size 432x288 with 1 Axes>"
      ]
     },
     "metadata": {
      "needs_background": "light"
     },
     "output_type": "display_data"
    }
   ],
   "source": [
    "#Using random forest (default parameters)\n",
    "rf.fit(X_train,y_train)\n",
    "\n",
    "feat_importances = pd.Series(rf.feature_importances_, index=X_train.columns)\n",
    "feat_importances.nlargest(14).plot(kind='barh')\n",
    "plt.show()"
   ]
  },
  {
   "cell_type": "markdown",
   "id": "7804020e",
   "metadata": {},
   "source": [
    "#### MODEL PERFORMANCE USING THEIR OPTIMAL PARAMETER"
   ]
  },
  {
   "cell_type": "markdown",
   "id": "5d3ba9e3",
   "metadata": {},
   "source": [
    "### <font color= BLUE>DECISION FOREST  "
   ]
  },
  {
   "cell_type": "code",
   "execution_count": 67,
   "id": "e385c9d5",
   "metadata": {},
   "outputs": [
    {
     "name": "stdout",
     "output_type": "stream",
     "text": [
      "timetaken: 3.03 min\n"
     ]
    },
    {
     "data": {
      "text/plain": [
       "{'max_depth': 11,\n",
       " 'max_leaf_nodes': 55,\n",
       " 'min_samples_leaf': 1,\n",
       " 'min_samples_split': 2}"
      ]
     },
     "execution_count": 67,
     "metadata": {},
     "output_type": "execute_result"
    }
   ],
   "source": [
    "#Finding best parameters using grid search cv\n",
    "dt = DecisionTreeClassifier()\n",
    "dt.fit(X_train,y_train)\n",
    "\n",
    "start = time.time()\n",
    "\n",
    "# Hyper parameters range intialization for tuning \n",
    "param_grid = {\n",
    "            \"max_depth\" : [3,5,7,9,11],\n",
    "            \"min_samples_leaf\":[1,2,3,4,5],\n",
    "            \"max_leaf_nodes\":[25,35,45,55,65],\n",
    "            \"min_samples_split\": [2,3,4,5,6]\n",
    "           }\n",
    "\n",
    "#Gridsearch on different combination of parameter\n",
    "CV_dt2 = GridSearchCV(estimator=dt, param_grid=param_grid, cv = 10)\n",
    "CV_dt2.fit(X_train, y_train)\n",
    "\n",
    "end = time.time()\n",
    "\n",
    "print(\"timetaken:\",round((1000*(end-start)/60000),2),\"min\")\n",
    "\n",
    "#Best parameters\n",
    "CV_dt2.best_params_"
   ]
  },
  {
   "cell_type": "markdown",
   "id": "152d0e9e",
   "metadata": {},
   "source": [
    "#### MODEL VALIDATION"
   ]
  },
  {
   "cell_type": "code",
   "execution_count": 290,
   "id": "c9c2f878",
   "metadata": {},
   "outputs": [
    {
     "data": {
      "text/plain": [
       "DecisionTreeClassifier(max_depth=11, max_leaf_nodes=55, random_state=42)"
      ]
     },
     "execution_count": 290,
     "metadata": {},
     "output_type": "execute_result"
    }
   ],
   "source": [
    "#Fitting tree with best parameters\n",
    "dt2 = DecisionTreeClassifier(max_depth = 11,max_leaf_nodes = 55,min_samples_leaf= 1,min_samples_split= 2,random_state=42)\n",
    "dt2.fit(X_train,y_train)"
   ]
  },
  {
   "cell_type": "code",
   "execution_count": 291,
   "id": "2fd4a4e0",
   "metadata": {},
   "outputs": [],
   "source": [
    "#Prediction on validation data\n",
    "y_pred = dt2.predict(X_test)"
   ]
  },
  {
   "cell_type": "code",
   "execution_count": 292,
   "id": "b9e30b9a",
   "metadata": {},
   "outputs": [
    {
     "name": "stdout",
     "output_type": "stream",
     "text": [
      "Accuracy : 0.834619625137817\n",
      "              precision    recall  f1-score   support\n",
      "\n",
      "           0       0.89      0.86      0.88      3049\n",
      "           1       0.73      0.78      0.76      1486\n",
      "\n",
      "    accuracy                           0.83      4535\n",
      "   macro avg       0.81      0.82      0.82      4535\n",
      "weighted avg       0.84      0.83      0.84      4535\n",
      "\n"
     ]
    },
    {
     "data": {
      "text/plain": [
       "<AxesSubplot:>"
      ]
     },
     "execution_count": 292,
     "metadata": {},
     "output_type": "execute_result"
    },
    {
     "data": {
      "image/png": "[encoded data removed]",
      "text/plain": [
       "<Figure size 432x288 with 2 Axes>"
      ]
     },
     "metadata": {
      "needs_background": "light"
     },
     "output_type": "display_data"
    }
   ],
   "source": [
    "#accuracy score\n",
    "dt2_acc = mat.accuracy_score(y_test,y_pred)\n",
    "print(\"Accuracy :\",dt2_acc)\n",
    "#print(\"f1\",mat.f1_score(y_valid,y_pred,average='macro'))\n",
    "print(classification_report(y_test, y_pred))\n",
    "\n",
    "cm= mat.confusion_matrix(y_test,y_pred)\n",
    "sns.heatmap(cm,annot=True)"
   ]
  },
  {
   "cell_type": "markdown",
   "id": "ee01f771",
   "metadata": {},
   "source": [
    "### <font color= BLUE>RANDOM FOREST  "
   ]
  },
  {
   "cell_type": "code",
   "execution_count": 68,
   "id": "39ef7958",
   "metadata": {},
   "outputs": [
    {
     "name": "stdout",
     "output_type": "stream",
     "text": [
      "Fitting 5 folds for each of 6480 candidates, totalling 32400 fits\n",
      "timetaken: 294.70180136760075 min\n"
     ]
    },
    {
     "data": {
      "text/plain": [
       "{'bootstrap': False,\n",
       " 'criterion': 'gini',\n",
       " 'max_depth': 18,\n",
       " 'max_features': 'log2',\n",
       " 'max_leaf_nodes': 50,\n",
       " 'min_samples_leaf': 5,\n",
       " 'min_samples_split': 3,\n",
       " 'n_estimators': 200}"
      ]
     },
     "execution_count": 68,
     "metadata": {},
     "output_type": "execute_result"
    }
   ],
   "source": [
    "#Finding best parameter for RF model\n",
    "rf = RandomForestClassifier()\n",
    "rf.fit(X_train,y_train)\n",
    "\n",
    "start = time.time()\n",
    "\n",
    "# Hyper parameters range intialization for tuning \n",
    "param_grid = {\n",
    "             \"bootstrap\": [True, False],\n",
    "            \"max_depth\" : range(3,20,3),\n",
    "            \"max_leaf_nodes\": range(10,60,10),\n",
    "            \"max_features\":[\"log2\",\"sqrt\"],#log2 = log(n_features),sqrt = sqrt(n_features)\n",
    "            \"n_estimators\":[100,150,200],\n",
    "            \"min_samples_leaf\":[3,4,5],\n",
    "            \"min_samples_split\": [2,3,4],\n",
    "            \"criterion\" :[\"gini\", \"entropy\"] #split based on least gini impurity ,high information gain(entropy)\n",
    "             }\n",
    "\n",
    "#Gridsearch (5fold_cv) \n",
    "CV_rf = GridSearchCV(estimator=rf, param_grid=param_grid, cv=5,n_jobs=-1,verbose=1)\n",
    "CV_rf.fit(X_train, y_train)\n",
    "\n",
    "end = time.time()\n",
    "\n",
    "print(\"timetaken:\",1000*(end-start)/60000,\"min\")\n",
    "\n",
    "#Best parameters\n",
    "CV_rf.best_params_"
   ]
  },
  {
   "cell_type": "markdown",
   "id": "2dc7e6a9",
   "metadata": {},
   "source": [
    "#### MODEL VALIDATION"
   ]
  },
  {
   "cell_type": "code",
   "execution_count": 320,
   "id": "e86f7d80",
   "metadata": {},
   "outputs": [
    {
     "data": {
      "text/plain": [
       "RandomForestClassifier(bootstrap=False, max_depth=18, max_features='log2',\n",
       "                       max_leaf_nodes=50, min_samples_leaf=5,\n",
       "                       min_samples_split=3, n_estimators=300, random_state=42)"
      ]
     },
     "execution_count": 320,
     "metadata": {},
     "output_type": "execute_result"
    }
   ],
   "source": [
    "#Fitting tree with best parameters\n",
    "rf2 = RandomForestClassifier(criterion='gini',max_depth = 18,max_features = 'log2',max_leaf_nodes = 50,\n",
    "                             min_samples_leaf = 5,min_samples_split = 3,n_estimators = 300,bootstrap=False,random_state=42)\n",
    "rf2.fit(X_train,y_train)"
   ]
  },
  {
   "cell_type": "code",
   "execution_count": 321,
   "id": "3b125066",
   "metadata": {},
   "outputs": [],
   "source": [
    "#Prediction on validation data\n",
    "y_pred = rf2.predict(X_test)"
   ]
  },
  {
   "cell_type": "code",
   "execution_count": 322,
   "id": "9838770c",
   "metadata": {},
   "outputs": [
    {
     "name": "stdout",
     "output_type": "stream",
     "text": [
      "Accuracy : 0.8264608599779493\n",
      "              precision    recall  f1-score   support\n",
      "\n",
      "           0       0.89      0.84      0.87      3049\n",
      "           1       0.71      0.79      0.75      1486\n",
      "\n",
      "    accuracy                           0.83      4535\n",
      "   macro avg       0.80      0.82      0.81      4535\n",
      "weighted avg       0.83      0.83      0.83      4535\n",
      "\n"
     ]
    },
    {
     "data": {
      "text/plain": [
       "<AxesSubplot:>"
      ]
     },
     "execution_count": 322,
     "metadata": {},
     "output_type": "execute_result"
    },
    {
     "data": {
      "image/png": "[encoded data removed]",
      "text/plain": [
       "<Figure size 432x288 with 2 Axes>"
      ]
     },
     "metadata": {
      "needs_background": "light"
     },
     "output_type": "display_data"
    }
   ],
   "source": [
    "#accuracy score\n",
    "rf2_acc = mat.accuracy_score(y_test,y_pred)\n",
    "print(\"Accuracy :\",rf2_acc)\n",
    "\n",
    "print(classification_report(y_test, y_pred))\n",
    "\n",
    "cm= mat.confusion_matrix(y_test,y_pred)\n",
    "sns.heatmap(cm,annot=True)"
   ]
  },
  {
   "cell_type": "markdown",
   "id": "11aefb9a",
   "metadata": {},
   "source": [
    "### <font color= BLUE> ADAPTIVE BOOSTING"
   ]
  },
  {
   "cell_type": "code",
   "execution_count": 69,
   "id": "05581f56",
   "metadata": {},
   "outputs": [
    {
     "name": "stdout",
     "output_type": "stream",
     "text": [
      "timetaken: 0.93 min\n"
     ]
    },
    {
     "data": {
      "text/plain": [
       "{'n_estimators': 140}"
      ]
     },
     "execution_count": 69,
     "metadata": {},
     "output_type": "execute_result"
    }
   ],
   "source": [
    "#Finding best parameter for Adaboost model\n",
    "ab = AdaBoostClassifier()\n",
    "ab.fit(X_train,y_train)\n",
    "\n",
    "start = time.time()\n",
    "\n",
    "# Hyper parameters range intialization for tuning  (base_estimator will be decision tree)\n",
    "param_grid = {\n",
    "    'n_estimators': range(100, 141, 5),\n",
    "     }\n",
    "\n",
    "#Gridsearch on different combination of parameter\n",
    "CV_ab = GridSearchCV(estimator=ab, param_grid=param_grid, cv= 5)\n",
    "CV_ab.fit(X_train, y_train)\n",
    "\n",
    "end = time.time()\n",
    "\n",
    "print(\"timetaken:\",round((1000*(end-start)/60000),2),\"min\")\n",
    "\n",
    "#Best parameters\n",
    "CV_ab.best_params_"
   ]
  },
  {
   "cell_type": "markdown",
   "id": "c6eccb15",
   "metadata": {},
   "source": [
    "#### MODEL VALIDATION"
   ]
  },
  {
   "cell_type": "code",
   "execution_count": 299,
   "id": "83d2891d",
   "metadata": {},
   "outputs": [
    {
     "data": {
      "text/plain": [
       "AdaBoostClassifier(n_estimators=140, random_state=42)"
      ]
     },
     "execution_count": 299,
     "metadata": {},
     "output_type": "execute_result"
    }
   ],
   "source": [
    "ab2 = AdaBoostClassifier(n_estimators = 140,random_state=42)\n",
    "ab2.fit(X_train,y_train)"
   ]
  },
  {
   "cell_type": "code",
   "execution_count": 300,
   "id": "dedcbe1e",
   "metadata": {},
   "outputs": [],
   "source": [
    "#Prediction on validation data\n",
    "y_pred = ab2.predict(X_test)"
   ]
  },
  {
   "cell_type": "code",
   "execution_count": 301,
   "id": "39b5afd2",
   "metadata": {},
   "outputs": [
    {
     "name": "stdout",
     "output_type": "stream",
     "text": [
      "Accuracy : 0.7969128996692393\n",
      "              precision    recall  f1-score   support\n",
      "\n",
      "           0       0.88      0.81      0.84      3049\n",
      "           1       0.67      0.76      0.71      1486\n",
      "\n",
      "    accuracy                           0.80      4535\n",
      "   macro avg       0.77      0.79      0.78      4535\n",
      "weighted avg       0.81      0.80      0.80      4535\n",
      "\n"
     ]
    },
    {
     "data": {
      "text/plain": [
       "<AxesSubplot:>"
      ]
     },
     "execution_count": 301,
     "metadata": {},
     "output_type": "execute_result"
    },
    {
     "data": {
      "image/png": "[encoded data removed]",
      "text/plain": [
       "<Figure size 432x288 with 2 Axes>"
      ]
     },
     "metadata": {
      "needs_background": "light"
     },
     "output_type": "display_data"
    }
   ],
   "source": [
    "#accuracy score\n",
    "ab2_acc = mat.accuracy_score(y_test,y_pred)\n",
    "print(\"Accuracy :\",ab2_acc)\n",
    "\n",
    "print(classification_report(y_test, y_pred))\n",
    "\n",
    "cm= mat.confusion_matrix(y_test,y_pred)\n",
    "sns.heatmap(cm,annot=True)"
   ]
  },
  {
   "cell_type": "markdown",
   "id": "f76990be",
   "metadata": {},
   "source": [
    "### <font color= BLUE> GRADIENT BOOSTING"
   ]
  },
  {
   "cell_type": "code",
   "execution_count": 226,
   "id": "5e740bd4",
   "metadata": {},
   "outputs": [
    {
     "name": "stderr",
     "output_type": "stream",
     "text": [
      "\n",
      "KeyboardInterrupt\n",
      "\n"
     ]
    }
   ],
   "source": [
    "# Finding the best parameter\n",
    "start = time.time()\n",
    "\n",
    "grid = {\n",
    "        'max_depth':[4,6,8],\n",
    "        'learning_rate':[0.01,0.05,0.1],\n",
    "        'n_estimators':np.arange(100,500,100)\n",
    "       }\n",
    "\n",
    "#Initializing gradient boosting object\n",
    "gb = GradientBoostingClassifier()\n",
    "#Gridsearch and cross validating on different conbination of hyperparameters\n",
    "gb_cv = GridSearchCV(gb, grid, cv = 5)\n",
    "gb_cv.fit(X_train,y_train)\n",
    "\n",
    "end = time.time()\n",
    "\n",
    "print(\"timetaken:\",round((1000*(end-start)/60000),2),\"min\") # to compute the time taken for the process\n",
    "\n",
    "print(\"Best Parameters:\",gb_cv.best_params_)\n",
    "print(\"Train Score:\",gb_cv.best_score_)\n",
    "print(\"valid Score:\",gb_cv.score(X_test,y_test))"
   ]
  },
  {
   "cell_type": "markdown",
   "id": "70d5d46d",
   "metadata": {},
   "source": [
    "#### MODEL VALIDATION"
   ]
  },
  {
   "cell_type": "code",
   "execution_count": 227,
   "id": "d39fde46",
   "metadata": {
    "collapsed": true
   },
   "outputs": [
    {
     "data": {
      "text/html": [
       "<div>\n",
       "<style scoped>\n",
       "    .dataframe tbody tr th:only-of-type {\n",
       "        vertical-align: middle;\n",
       "    }\n",
       "\n",
       "    .dataframe tbody tr th {\n",
       "        vertical-align: top;\n",
       "    }\n",
       "\n",
       "    .dataframe thead th {\n",
       "        text-align: right;\n",
       "    }\n",
       "</style>\n",
       "<table border=\"1\" class=\"dataframe\">\n",
       "  <thead>\n",
       "    <tr style=\"text-align: right;\">\n",
       "      <th></th>\n",
       "      <th>no_of_adults</th>\n",
       "      <th>no_of_children</th>\n",
       "      <th>no_of_weekend_nights</th>\n",
       "      <th>no_of_week_nights</th>\n",
       "      <th>type_of_meal_plan</th>\n",
       "      <th>required_car_parking_space</th>\n",
       "      <th>room_type_reserved</th>\n",
       "      <th>lead_time</th>\n",
       "      <th>arrival_year</th>\n",
       "      <th>arrival_month</th>\n",
       "      <th>arrival_date</th>\n",
       "      <th>market_segment_type</th>\n",
       "      <th>repeated_guest</th>\n",
       "      <th>no_of_previous_cancellations</th>\n",
       "      <th>no_of_previous_bookings_not_canceled</th>\n",
       "      <th>avg_price_per_room</th>\n",
       "      <th>no_of_special_requests</th>\n",
       "    </tr>\n",
       "  </thead>\n",
       "  <tbody>\n",
       "    <tr>\n",
       "      <th>0</th>\n",
       "      <td>2</td>\n",
       "      <td>0</td>\n",
       "      <td>1</td>\n",
       "      <td>1</td>\n",
       "      <td>0</td>\n",
       "      <td>0</td>\n",
       "      <td>0</td>\n",
       "      <td>25</td>\n",
       "      <td>2018</td>\n",
       "      <td>10</td>\n",
       "      <td>10</td>\n",
       "      <td>0</td>\n",
       "      <td>0</td>\n",
       "      <td>0</td>\n",
       "      <td>0</td>\n",
       "      <td>95.000000</td>\n",
       "      <td>1</td>\n",
       "    </tr>\n",
       "    <tr>\n",
       "      <th>1</th>\n",
       "      <td>2</td>\n",
       "      <td>0</td>\n",
       "      <td>0</td>\n",
       "      <td>2</td>\n",
       "      <td>0</td>\n",
       "      <td>0</td>\n",
       "      <td>0</td>\n",
       "      <td>134</td>\n",
       "      <td>2018</td>\n",
       "      <td>8</td>\n",
       "      <td>4</td>\n",
       "      <td>1</td>\n",
       "      <td>0</td>\n",
       "      <td>0</td>\n",
       "      <td>0</td>\n",
       "      <td>105.300000</td>\n",
       "      <td>1</td>\n",
       "    </tr>\n",
       "    <tr>\n",
       "      <th>2</th>\n",
       "      <td>1</td>\n",
       "      <td>0</td>\n",
       "      <td>2</td>\n",
       "      <td>5</td>\n",
       "      <td>0</td>\n",
       "      <td>0</td>\n",
       "      <td>1</td>\n",
       "      <td>3</td>\n",
       "      <td>2018</td>\n",
       "      <td>9</td>\n",
       "      <td>11</td>\n",
       "      <td>1</td>\n",
       "      <td>0</td>\n",
       "      <td>0</td>\n",
       "      <td>0</td>\n",
       "      <td>179.710000</td>\n",
       "      <td>1</td>\n",
       "    </tr>\n",
       "    <tr>\n",
       "      <th>3</th>\n",
       "      <td>1</td>\n",
       "      <td>0</td>\n",
       "      <td>2</td>\n",
       "      <td>4</td>\n",
       "      <td>0</td>\n",
       "      <td>0</td>\n",
       "      <td>0</td>\n",
       "      <td>69</td>\n",
       "      <td>2018</td>\n",
       "      <td>6</td>\n",
       "      <td>12</td>\n",
       "      <td>0</td>\n",
       "      <td>0</td>\n",
       "      <td>0</td>\n",
       "      <td>0</td>\n",
       "      <td>120.000000</td>\n",
       "      <td>0</td>\n",
       "    </tr>\n",
       "    <tr>\n",
       "      <th>4</th>\n",
       "      <td>2</td>\n",
       "      <td>0</td>\n",
       "      <td>1</td>\n",
       "      <td>2</td>\n",
       "      <td>0</td>\n",
       "      <td>0</td>\n",
       "      <td>0</td>\n",
       "      <td>214</td>\n",
       "      <td>2018</td>\n",
       "      <td>9</td>\n",
       "      <td>23</td>\n",
       "      <td>0</td>\n",
       "      <td>0</td>\n",
       "      <td>0</td>\n",
       "      <td>0</td>\n",
       "      <td>80.750000</td>\n",
       "      <td>1</td>\n",
       "    </tr>\n",
       "    <tr>\n",
       "      <th>...</th>\n",
       "      <td>...</td>\n",
       "      <td>...</td>\n",
       "      <td>...</td>\n",
       "      <td>...</td>\n",
       "      <td>...</td>\n",
       "      <td>...</td>\n",
       "      <td>...</td>\n",
       "      <td>...</td>\n",
       "      <td>...</td>\n",
       "      <td>...</td>\n",
       "      <td>...</td>\n",
       "      <td>...</td>\n",
       "      <td>...</td>\n",
       "      <td>...</td>\n",
       "      <td>...</td>\n",
       "      <td>...</td>\n",
       "      <td>...</td>\n",
       "    </tr>\n",
       "    <tr>\n",
       "      <th>18287</th>\n",
       "      <td>2</td>\n",
       "      <td>0</td>\n",
       "      <td>0</td>\n",
       "      <td>4</td>\n",
       "      <td>0</td>\n",
       "      <td>0</td>\n",
       "      <td>0</td>\n",
       "      <td>253</td>\n",
       "      <td>2018</td>\n",
       "      <td>5</td>\n",
       "      <td>4</td>\n",
       "      <td>0</td>\n",
       "      <td>0</td>\n",
       "      <td>0</td>\n",
       "      <td>0</td>\n",
       "      <td>90.000000</td>\n",
       "      <td>0</td>\n",
       "    </tr>\n",
       "    <tr>\n",
       "      <th>18288</th>\n",
       "      <td>2</td>\n",
       "      <td>0</td>\n",
       "      <td>0</td>\n",
       "      <td>3</td>\n",
       "      <td>0</td>\n",
       "      <td>0</td>\n",
       "      <td>0</td>\n",
       "      <td>105</td>\n",
       "      <td>2018</td>\n",
       "      <td>10</td>\n",
       "      <td>12</td>\n",
       "      <td>1</td>\n",
       "      <td>0</td>\n",
       "      <td>0</td>\n",
       "      <td>0</td>\n",
       "      <td>75.000000</td>\n",
       "      <td>0</td>\n",
       "    </tr>\n",
       "    <tr>\n",
       "      <th>18289</th>\n",
       "      <td>1</td>\n",
       "      <td>0</td>\n",
       "      <td>0</td>\n",
       "      <td>3</td>\n",
       "      <td>0</td>\n",
       "      <td>0</td>\n",
       "      <td>0</td>\n",
       "      <td>214</td>\n",
       "      <td>2018</td>\n",
       "      <td>8</td>\n",
       "      <td>16</td>\n",
       "      <td>1</td>\n",
       "      <td>0</td>\n",
       "      <td>0</td>\n",
       "      <td>0</td>\n",
       "      <td>90.912435</td>\n",
       "      <td>0</td>\n",
       "    </tr>\n",
       "    <tr>\n",
       "      <th>18290</th>\n",
       "      <td>2</td>\n",
       "      <td>0</td>\n",
       "      <td>0</td>\n",
       "      <td>3</td>\n",
       "      <td>0</td>\n",
       "      <td>0</td>\n",
       "      <td>0</td>\n",
       "      <td>213</td>\n",
       "      <td>2018</td>\n",
       "      <td>6</td>\n",
       "      <td>7</td>\n",
       "      <td>0</td>\n",
       "      <td>0</td>\n",
       "      <td>0</td>\n",
       "      <td>0</td>\n",
       "      <td>130.000000</td>\n",
       "      <td>0</td>\n",
       "    </tr>\n",
       "    <tr>\n",
       "      <th>18291</th>\n",
       "      <td>2</td>\n",
       "      <td>0</td>\n",
       "      <td>0</td>\n",
       "      <td>2</td>\n",
       "      <td>0</td>\n",
       "      <td>0</td>\n",
       "      <td>0</td>\n",
       "      <td>27</td>\n",
       "      <td>2018</td>\n",
       "      <td>2</td>\n",
       "      <td>23</td>\n",
       "      <td>1</td>\n",
       "      <td>0</td>\n",
       "      <td>0</td>\n",
       "      <td>0</td>\n",
       "      <td>128.020563</td>\n",
       "      <td>0</td>\n",
       "    </tr>\n",
       "  </tbody>\n",
       "</table>\n",
       "<p>18292 rows × 17 columns</p>\n",
       "</div>"
      ],
      "text/plain": [
       "       no_of_adults  no_of_children  no_of_weekend_nights  no_of_week_nights  \\\n",
       "0                 2               0                     1                  1   \n",
       "1                 2               0                     0                  2   \n",
       "2                 1               0                     2                  5   \n",
       "3                 1               0                     2                  4   \n",
       "4                 2               0                     1                  2   \n",
       "...             ...             ...                   ...                ...   \n",
       "18287             2               0                     0                  4   \n",
       "18288             2               0                     0                  3   \n",
       "18289             1               0                     0                  3   \n",
       "18290             2               0                     0                  3   \n",
       "18291             2               0                     0                  2   \n",
       "\n",
       "       type_of_meal_plan  required_car_parking_space  room_type_reserved  \\\n",
       "0                      0                           0                   0   \n",
       "1                      0                           0                   0   \n",
       "2                      0                           0                   1   \n",
       "3                      0                           0                   0   \n",
       "4                      0                           0                   0   \n",
       "...                  ...                         ...                 ...   \n",
       "18287                  0                           0                   0   \n",
       "18288                  0                           0                   0   \n",
       "18289                  0                           0                   0   \n",
       "18290                  0                           0                   0   \n",
       "18291                  0                           0                   0   \n",
       "\n",
       "       lead_time  arrival_year  arrival_month  arrival_date  \\\n",
       "0             25          2018             10            10   \n",
       "1            134          2018              8             4   \n",
       "2              3          2018              9            11   \n",
       "3             69          2018              6            12   \n",
       "4            214          2018              9            23   \n",
       "...          ...           ...            ...           ...   \n",
       "18287        253          2018              5             4   \n",
       "18288        105          2018             10            12   \n",
       "18289        214          2018              8            16   \n",
       "18290        213          2018              6             7   \n",
       "18291         27          2018              2            23   \n",
       "\n",
       "       market_segment_type  repeated_guest  no_of_previous_cancellations  \\\n",
       "0                        0               0                             0   \n",
       "1                        1               0                             0   \n",
       "2                        1               0                             0   \n",
       "3                        0               0                             0   \n",
       "4                        0               0                             0   \n",
       "...                    ...             ...                           ...   \n",
       "18287                    0               0                             0   \n",
       "18288                    1               0                             0   \n",
       "18289                    1               0                             0   \n",
       "18290                    0               0                             0   \n",
       "18291                    1               0                             0   \n",
       "\n",
       "       no_of_previous_bookings_not_canceled  avg_price_per_room  \\\n",
       "0                                         0           95.000000   \n",
       "1                                         0          105.300000   \n",
       "2                                         0          179.710000   \n",
       "3                                         0          120.000000   \n",
       "4                                         0           80.750000   \n",
       "...                                     ...                 ...   \n",
       "18287                                     0           90.000000   \n",
       "18288                                     0           75.000000   \n",
       "18289                                     0           90.912435   \n",
       "18290                                     0          130.000000   \n",
       "18291                                     0          128.020563   \n",
       "\n",
       "       no_of_special_requests  \n",
       "0                           1  \n",
       "1                           1  \n",
       "2                           1  \n",
       "3                           0  \n",
       "4                           1  \n",
       "...                       ...  \n",
       "18287                       0  \n",
       "18288                       0  \n",
       "18289                       0  \n",
       "18290                       0  \n",
       "18291                       0  \n",
       "\n",
       "[18292 rows x 17 columns]"
      ]
     },
     "execution_count": 227,
     "metadata": {},
     "output_type": "execute_result"
    }
   ],
   "source": [
    "X_train"
   ]
  },
  {
   "cell_type": "code",
   "execution_count": 302,
   "id": "2555dc8c",
   "metadata": {},
   "outputs": [
    {
     "data": {
      "text/plain": [
       "GradientBoostingClassifier(learning_rate=0.01, max_depth=8, n_estimators=400,\n",
       "                           random_state=42)"
      ]
     },
     "execution_count": 302,
     "metadata": {},
     "output_type": "execute_result"
    }
   ],
   "source": [
    "gb2 = GradientBoostingClassifier(learning_rate = 0.01, max_depth =8, n_estimators = 400,random_state=42)\n",
    "gb2.fit(X_train,y_train)"
   ]
  },
  {
   "cell_type": "code",
   "execution_count": 303,
   "id": "410ce052",
   "metadata": {},
   "outputs": [],
   "source": [
    "#Prediction on validation data\n",
    "y_pred = gb2.predict(X_test)"
   ]
  },
  {
   "cell_type": "code",
   "execution_count": 304,
   "id": "0ed3ee0b",
   "metadata": {},
   "outputs": [
    {
     "name": "stdout",
     "output_type": "stream",
     "text": [
      "Accuracy : 0.8723263506063947\n",
      "              precision    recall  f1-score   support\n",
      "\n",
      "           0       0.90      0.91      0.91      3049\n",
      "           1       0.81      0.80      0.80      1486\n",
      "\n",
      "    accuracy                           0.87      4535\n",
      "   macro avg       0.86      0.85      0.85      4535\n",
      "weighted avg       0.87      0.87      0.87      4535\n",
      "\n"
     ]
    },
    {
     "data": {
      "text/plain": [
       "<AxesSubplot:>"
      ]
     },
     "execution_count": 304,
     "metadata": {},
     "output_type": "execute_result"
    },
    {
     "data": {
      "image/png": "[encoded data removed]",
      "text/plain": [
       "<Figure size 432x288 with 2 Axes>"
      ]
     },
     "metadata": {
      "needs_background": "light"
     },
     "output_type": "display_data"
    }
   ],
   "source": [
    "#accuracy score\n",
    "gb2_acc = mat.accuracy_score(y_test,y_pred)\n",
    "print(\"Accuracy :\",gb2_acc)\n",
    "\n",
    "print(classification_report(y_test, y_pred))\n",
    "\n",
    "cm= mat.confusion_matrix(y_test,y_pred)\n",
    "sns.heatmap(cm,annot=True)"
   ]
  },
  {
   "cell_type": "markdown",
   "id": "1fdbcfe2",
   "metadata": {},
   "source": [
    "### <font color= BLUE> USING KNN MODEL"
   ]
  },
  {
   "cell_type": "code",
   "execution_count": 231,
   "id": "588d3212",
   "metadata": {},
   "outputs": [
    {
     "name": "stdout",
     "output_type": "stream",
     "text": [
      "Fitting 5 folds for each of 36 candidates, totalling 180 fits\n",
      "Best Parameters: {'metric': 'manhattan', 'n_neighbors': 5, 'weights': 'distance'}\n"
     ]
    }
   ],
   "source": [
    "# Finding the best parameter\n",
    "grid_params = { 'n_neighbors' : [5,7,9,11,13,15],\n",
    "               'weights' : ['uniform','distance'],\n",
    "               'metric' : ['minkowski','euclidean','manhattan']}\n",
    "\n",
    "#Initializing knn classifier\n",
    "knn = KNeighborsClassifier()\n",
    "\n",
    "#Gridsearch and cross validating on different combination of hyperparameters\n",
    "knn_cv = GridSearchCV(knn, grid_params, cv = 5,n_jobs=-1,verbose=1)\n",
    "knn_cv.fit(X_train,y_train)\n",
    "\n",
    "print(\"Best Parameters:\",knn_cv.best_params_)"
   ]
  },
  {
   "cell_type": "markdown",
   "id": "e953c727",
   "metadata": {},
   "source": [
    "####  MODEL VALIDATION"
   ]
  },
  {
   "cell_type": "code",
   "execution_count": 234,
   "id": "9c0ae944",
   "metadata": {},
   "outputs": [],
   "source": [
    "#Prediction on validation data \n",
    "y_pred = knn_cv.predict(X_test) "
   ]
  },
  {
   "cell_type": "code",
   "execution_count": 235,
   "id": "ba744be3",
   "metadata": {
    "scrolled": false
   },
   "outputs": [
    {
     "name": "stdout",
     "output_type": "stream",
     "text": [
      "Accuracy : 0.7832414553472988\n",
      "              precision    recall  f1-score   support\n",
      "\n",
      "           0       0.87      0.80      0.83      3049\n",
      "           1       0.65      0.75      0.69      1486\n",
      "\n",
      "    accuracy                           0.78      4535\n",
      "   macro avg       0.76      0.77      0.76      4535\n",
      "weighted avg       0.80      0.78      0.79      4535\n",
      "\n"
     ]
    },
    {
     "data": {
      "text/plain": [
       "<AxesSubplot:>"
      ]
     },
     "execution_count": 235,
     "metadata": {},
     "output_type": "execute_result"
    },
    {
     "data": {
      "image/png": "[encoded data removed]",
      "text/plain": [
       "<Figure size 432x288 with 2 Axes>"
      ]
     },
     "metadata": {
      "needs_background": "light"
     },
     "output_type": "display_data"
    }
   ],
   "source": [
    "#accuracy score\n",
    "knn_acc = mat.accuracy_score(y_test,y_pred)\n",
    "print(\"Accuracy :\",knn_acc)\n",
    "\n",
    "print(classification_report(y_test, y_pred))\n",
    "\n",
    "cm = mat.confusion_matrix(y_test,y_pred)\n",
    "sns.heatmap(cm,annot=True)"
   ]
  },
  {
   "cell_type": "markdown",
   "id": "71ec913f",
   "metadata": {},
   "source": [
    "### <font color= BLUE> USING BAGGING CLASSIFIER"
   ]
  },
  {
   "cell_type": "code",
   "execution_count": 305,
   "id": "c4837ce8",
   "metadata": {},
   "outputs": [
    {
     "name": "stdout",
     "output_type": "stream",
     "text": [
      "Fitting 5 folds for each of 4 candidates, totalling 20 fits\n",
      "Best Parameters: {'n_estimators': 150}\n"
     ]
    }
   ],
   "source": [
    "# Finding the best parameter\n",
    "grid_params = { 'n_estimators' : [100,150,200,300]}\n",
    "\n",
    "#Initializing knn classifier\n",
    "bc = BaggingClassifier()\n",
    "\n",
    "#Gridsearch and cross validating on different combination of hyperparameters\n",
    "bc_cv = GridSearchCV(bc, grid_params,cv = 5,n_jobs=-1,verbose=1)\n",
    "bc_cv.fit(X_train,y_train)\n",
    "\n",
    "print(\"Best Parameters:\",bc_cv.best_params_)"
   ]
  },
  {
   "cell_type": "markdown",
   "id": "274943d4",
   "metadata": {},
   "source": [
    "####  MODEL VALIDATION"
   ]
  },
  {
   "cell_type": "code",
   "execution_count": 306,
   "id": "f5ab0de3",
   "metadata": {},
   "outputs": [
    {
     "data": {
      "text/plain": [
       "BaggingClassifier(n_estimators=300)"
      ]
     },
     "execution_count": 306,
     "metadata": {},
     "output_type": "execute_result"
    }
   ],
   "source": [
    "bcc = BaggingClassifier(n_estimators = 300)\n",
    "bcc.fit(X_train,y_train)"
   ]
  },
  {
   "cell_type": "code",
   "execution_count": 307,
   "id": "596d6e93",
   "metadata": {},
   "outputs": [],
   "source": [
    "#Prediction on validation data \n",
    "\n",
    "y_pred = bcc.predict(X_test) "
   ]
  },
  {
   "cell_type": "code",
   "execution_count": 308,
   "id": "a022c51e",
   "metadata": {
    "scrolled": false
   },
   "outputs": [
    {
     "name": "stdout",
     "output_type": "stream",
     "text": [
      "Accuracy : 0.8760749724366041\n",
      "              precision    recall  f1-score   support\n",
      "\n",
      "           0       0.91      0.91      0.91      3049\n",
      "           1       0.81      0.81      0.81      1486\n",
      "\n",
      "    accuracy                           0.88      4535\n",
      "   macro avg       0.86      0.86      0.86      4535\n",
      "weighted avg       0.88      0.88      0.88      4535\n",
      "\n"
     ]
    },
    {
     "data": {
      "text/plain": [
       "<AxesSubplot:>"
      ]
     },
     "execution_count": 308,
     "metadata": {},
     "output_type": "execute_result"
    },
    {
     "data": {
      "image/png": "[encoded data removed]",
      "text/plain": [
       "<Figure size 432x288 with 2 Axes>"
      ]
     },
     "metadata": {
      "needs_background": "light"
     },
     "output_type": "display_data"
    }
   ],
   "source": [
    "#accuracy score\n",
    "bc_acc = mat.accuracy_score(y_test,y_pred)\n",
    "print(\"Accuracy :\",bc_acc)\n",
    "\n",
    "print(classification_report(y_test, y_pred))\n",
    "\n",
    "cm = mat.confusion_matrix(y_test,y_pred)\n",
    "sns.heatmap(cm,annot=True)"
   ]
  },
  {
   "cell_type": "markdown",
   "id": "81b33849",
   "metadata": {},
   "source": [
    "### 5.RESULT"
   ]
  },
  {
   "cell_type": "code",
   "execution_count": 323,
   "id": "8ad38322",
   "metadata": {},
   "outputs": [
    {
     "data": {
      "text/html": [
       "<div>\n",
       "<style scoped>\n",
       "    .dataframe tbody tr th:only-of-type {\n",
       "        vertical-align: middle;\n",
       "    }\n",
       "\n",
       "    .dataframe tbody tr th {\n",
       "        vertical-align: top;\n",
       "    }\n",
       "\n",
       "    .dataframe thead th {\n",
       "        text-align: right;\n",
       "    }\n",
       "</style>\n",
       "<table border=\"1\" class=\"dataframe\">\n",
       "  <thead>\n",
       "    <tr style=\"text-align: right;\">\n",
       "      <th></th>\n",
       "      <th>Validation score</th>\n",
       "    </tr>\n",
       "  </thead>\n",
       "  <tbody>\n",
       "    <tr>\n",
       "      <th>Decision tree</th>\n",
       "      <td>0.834620</td>\n",
       "    </tr>\n",
       "    <tr>\n",
       "      <th>Random forest</th>\n",
       "      <td>0.826461</td>\n",
       "    </tr>\n",
       "    <tr>\n",
       "      <th>Adaptive boosting</th>\n",
       "      <td>0.796913</td>\n",
       "    </tr>\n",
       "    <tr>\n",
       "      <th>Gradient boosting</th>\n",
       "      <td>0.872326</td>\n",
       "    </tr>\n",
       "    <tr>\n",
       "      <th>Knn model</th>\n",
       "      <td>0.783241</td>\n",
       "    </tr>\n",
       "    <tr>\n",
       "      <th>Bagging classifier</th>\n",
       "      <td>0.876075</td>\n",
       "    </tr>\n",
       "  </tbody>\n",
       "</table>\n",
       "</div>"
      ],
      "text/plain": [
       "                    Validation score\n",
       "Decision tree               0.834620\n",
       "Random forest               0.826461\n",
       "Adaptive boosting           0.796913\n",
       "Gradient boosting           0.872326\n",
       "Knn model                   0.783241\n",
       "Bagging classifier          0.876075"
      ]
     },
     "execution_count": 323,
     "metadata": {},
     "output_type": "execute_result"
    }
   ],
   "source": [
    "final_result = pd.DataFrame({\"Validation score\":[dt2_acc,rf2_acc,ab2_acc,gb2_acc,knn_acc,bc_acc]\n",
    "                             \n",
    "                      },index=[\"Decision tree\",\"Random forest\",\"Adaptive boosting\",\n",
    "                              \"Gradient boosting\",\"Knn model\",\"Bagging classifier\"])\n",
    "final_result"
   ]
  },
  {
   "cell_type": "code",
   "execution_count": 163,
   "id": "6e662b08",
   "metadata": {},
   "outputs": [],
   "source": [
    "test_data = pd.read_csv(\"test_dataset.csv\")\n",
    "test_data.drop([ 'arrival_year', 'arrival_month','arrival_date'],axis=1,inplace=True)"
   ]
  },
  {
   "cell_type": "code",
   "execution_count": 171,
   "id": "cee5ffde",
   "metadata": {},
   "outputs": [
    {
     "data": {
      "text/html": [
       "<div>\n",
       "<style scoped>\n",
       "    .dataframe tbody tr th:only-of-type {\n",
       "        vertical-align: middle;\n",
       "    }\n",
       "\n",
       "    .dataframe tbody tr th {\n",
       "        vertical-align: top;\n",
       "    }\n",
       "\n",
       "    .dataframe thead th {\n",
       "        text-align: right;\n",
       "    }\n",
       "</style>\n",
       "<table border=\"1\" class=\"dataframe\">\n",
       "  <thead>\n",
       "    <tr style=\"text-align: right;\">\n",
       "      <th></th>\n",
       "      <th>no_of_adults</th>\n",
       "      <th>no_of_children</th>\n",
       "      <th>no_of_weekend_nights</th>\n",
       "      <th>no_of_week_nights</th>\n",
       "      <th>type_of_meal_plan</th>\n",
       "      <th>required_car_parking_space</th>\n",
       "      <th>room_type_reserved</th>\n",
       "      <th>lead_time</th>\n",
       "      <th>market_segment_type</th>\n",
       "      <th>repeated_guest</th>\n",
       "      <th>no_of_previous_cancellations</th>\n",
       "      <th>no_of_previous_bookings_not_canceled</th>\n",
       "      <th>avg_price_per_room</th>\n",
       "      <th>no_of_special_requests</th>\n",
       "    </tr>\n",
       "  </thead>\n",
       "  <tbody>\n",
       "    <tr>\n",
       "      <th>0</th>\n",
       "      <td>2</td>\n",
       "      <td>0</td>\n",
       "      <td>1</td>\n",
       "      <td>2</td>\n",
       "      <td>0</td>\n",
       "      <td>1</td>\n",
       "      <td>0</td>\n",
       "      <td>65</td>\n",
       "      <td>1</td>\n",
       "      <td>0</td>\n",
       "      <td>0</td>\n",
       "      <td>0</td>\n",
       "      <td>96.3</td>\n",
       "      <td>0</td>\n",
       "    </tr>\n",
       "    <tr>\n",
       "      <th>1</th>\n",
       "      <td>2</td>\n",
       "      <td>0</td>\n",
       "      <td>0</td>\n",
       "      <td>2</td>\n",
       "      <td>0</td>\n",
       "      <td>0</td>\n",
       "      <td>0</td>\n",
       "      <td>322</td>\n",
       "      <td>0</td>\n",
       "      <td>0</td>\n",
       "      <td>0</td>\n",
       "      <td>0</td>\n",
       "      <td>52.0</td>\n",
       "      <td>0</td>\n",
       "    </tr>\n",
       "    <tr>\n",
       "      <th>2</th>\n",
       "      <td>1</td>\n",
       "      <td>0</td>\n",
       "      <td>2</td>\n",
       "      <td>3</td>\n",
       "      <td>0</td>\n",
       "      <td>0</td>\n",
       "      <td>0</td>\n",
       "      <td>115</td>\n",
       "      <td>0</td>\n",
       "      <td>0</td>\n",
       "      <td>0</td>\n",
       "      <td>0</td>\n",
       "      <td>75.0</td>\n",
       "      <td>0</td>\n",
       "    </tr>\n",
       "    <tr>\n",
       "      <th>3</th>\n",
       "      <td>2</td>\n",
       "      <td>0</td>\n",
       "      <td>2</td>\n",
       "      <td>0</td>\n",
       "      <td>2</td>\n",
       "      <td>0</td>\n",
       "      <td>0</td>\n",
       "      <td>386</td>\n",
       "      <td>1</td>\n",
       "      <td>0</td>\n",
       "      <td>0</td>\n",
       "      <td>0</td>\n",
       "      <td>115.0</td>\n",
       "      <td>1</td>\n",
       "    </tr>\n",
       "    <tr>\n",
       "      <th>4</th>\n",
       "      <td>2</td>\n",
       "      <td>0</td>\n",
       "      <td>1</td>\n",
       "      <td>4</td>\n",
       "      <td>0</td>\n",
       "      <td>0</td>\n",
       "      <td>1</td>\n",
       "      <td>51</td>\n",
       "      <td>1</td>\n",
       "      <td>0</td>\n",
       "      <td>0</td>\n",
       "      <td>0</td>\n",
       "      <td>123.3</td>\n",
       "      <td>0</td>\n",
       "    </tr>\n",
       "    <tr>\n",
       "      <th>...</th>\n",
       "      <td>...</td>\n",
       "      <td>...</td>\n",
       "      <td>...</td>\n",
       "      <td>...</td>\n",
       "      <td>...</td>\n",
       "      <td>...</td>\n",
       "      <td>...</td>\n",
       "      <td>...</td>\n",
       "      <td>...</td>\n",
       "      <td>...</td>\n",
       "      <td>...</td>\n",
       "      <td>...</td>\n",
       "      <td>...</td>\n",
       "      <td>...</td>\n",
       "    </tr>\n",
       "    <tr>\n",
       "      <th>18133</th>\n",
       "      <td>2</td>\n",
       "      <td>0</td>\n",
       "      <td>1</td>\n",
       "      <td>3</td>\n",
       "      <td>0</td>\n",
       "      <td>0</td>\n",
       "      <td>1</td>\n",
       "      <td>37</td>\n",
       "      <td>1</td>\n",
       "      <td>0</td>\n",
       "      <td>0</td>\n",
       "      <td>0</td>\n",
       "      <td>95.4</td>\n",
       "      <td>1</td>\n",
       "    </tr>\n",
       "    <tr>\n",
       "      <th>18134</th>\n",
       "      <td>1</td>\n",
       "      <td>0</td>\n",
       "      <td>1</td>\n",
       "      <td>2</td>\n",
       "      <td>0</td>\n",
       "      <td>0</td>\n",
       "      <td>0</td>\n",
       "      <td>40</td>\n",
       "      <td>1</td>\n",
       "      <td>0</td>\n",
       "      <td>0</td>\n",
       "      <td>0</td>\n",
       "      <td>169.2</td>\n",
       "      <td>0</td>\n",
       "    </tr>\n",
       "    <tr>\n",
       "      <th>18135</th>\n",
       "      <td>2</td>\n",
       "      <td>0</td>\n",
       "      <td>2</td>\n",
       "      <td>2</td>\n",
       "      <td>0</td>\n",
       "      <td>0</td>\n",
       "      <td>0</td>\n",
       "      <td>144</td>\n",
       "      <td>0</td>\n",
       "      <td>0</td>\n",
       "      <td>0</td>\n",
       "      <td>0</td>\n",
       "      <td>112.0</td>\n",
       "      <td>0</td>\n",
       "    </tr>\n",
       "    <tr>\n",
       "      <th>18136</th>\n",
       "      <td>2</td>\n",
       "      <td>0</td>\n",
       "      <td>0</td>\n",
       "      <td>2</td>\n",
       "      <td>0</td>\n",
       "      <td>0</td>\n",
       "      <td>1</td>\n",
       "      <td>30</td>\n",
       "      <td>1</td>\n",
       "      <td>0</td>\n",
       "      <td>0</td>\n",
       "      <td>0</td>\n",
       "      <td>116.3</td>\n",
       "      <td>1</td>\n",
       "    </tr>\n",
       "    <tr>\n",
       "      <th>18137</th>\n",
       "      <td>2</td>\n",
       "      <td>0</td>\n",
       "      <td>0</td>\n",
       "      <td>2</td>\n",
       "      <td>0</td>\n",
       "      <td>0</td>\n",
       "      <td>0</td>\n",
       "      <td>211</td>\n",
       "      <td>0</td>\n",
       "      <td>0</td>\n",
       "      <td>0</td>\n",
       "      <td>0</td>\n",
       "      <td>100.0</td>\n",
       "      <td>0</td>\n",
       "    </tr>\n",
       "  </tbody>\n",
       "</table>\n",
       "<p>18138 rows × 14 columns</p>\n",
       "</div>"
      ],
      "text/plain": [
       "       no_of_adults  no_of_children  no_of_weekend_nights  no_of_week_nights  \\\n",
       "0                 2               0                     1                  2   \n",
       "1                 2               0                     0                  2   \n",
       "2                 1               0                     2                  3   \n",
       "3                 2               0                     2                  0   \n",
       "4                 2               0                     1                  4   \n",
       "...             ...             ...                   ...                ...   \n",
       "18133             2               0                     1                  3   \n",
       "18134             1               0                     1                  2   \n",
       "18135             2               0                     2                  2   \n",
       "18136             2               0                     0                  2   \n",
       "18137             2               0                     0                  2   \n",
       "\n",
       "       type_of_meal_plan  required_car_parking_space  room_type_reserved  \\\n",
       "0                      0                           1                   0   \n",
       "1                      0                           0                   0   \n",
       "2                      0                           0                   0   \n",
       "3                      2                           0                   0   \n",
       "4                      0                           0                   1   \n",
       "...                  ...                         ...                 ...   \n",
       "18133                  0                           0                   1   \n",
       "18134                  0                           0                   0   \n",
       "18135                  0                           0                   0   \n",
       "18136                  0                           0                   1   \n",
       "18137                  0                           0                   0   \n",
       "\n",
       "       lead_time  market_segment_type  repeated_guest  \\\n",
       "0             65                    1               0   \n",
       "1            322                    0               0   \n",
       "2            115                    0               0   \n",
       "3            386                    1               0   \n",
       "4             51                    1               0   \n",
       "...          ...                  ...             ...   \n",
       "18133         37                    1               0   \n",
       "18134         40                    1               0   \n",
       "18135        144                    0               0   \n",
       "18136         30                    1               0   \n",
       "18137        211                    0               0   \n",
       "\n",
       "       no_of_previous_cancellations  no_of_previous_bookings_not_canceled  \\\n",
       "0                                 0                                     0   \n",
       "1                                 0                                     0   \n",
       "2                                 0                                     0   \n",
       "3                                 0                                     0   \n",
       "4                                 0                                     0   \n",
       "...                             ...                                   ...   \n",
       "18133                             0                                     0   \n",
       "18134                             0                                     0   \n",
       "18135                             0                                     0   \n",
       "18136                             0                                     0   \n",
       "18137                             0                                     0   \n",
       "\n",
       "       avg_price_per_room  no_of_special_requests  \n",
       "0                    96.3                       0  \n",
       "1                    52.0                       0  \n",
       "2                    75.0                       0  \n",
       "3                   115.0                       1  \n",
       "4                   123.3                       0  \n",
       "...                   ...                     ...  \n",
       "18133                95.4                       1  \n",
       "18134               169.2                       0  \n",
       "18135               112.0                       0  \n",
       "18136               116.3                       1  \n",
       "18137               100.0                       0  \n",
       "\n",
       "[18138 rows x 14 columns]"
      ]
     },
     "execution_count": 171,
     "metadata": {},
     "output_type": "execute_result"
    }
   ],
   "source": [
    "test_data"
   ]
  },
  {
   "cell_type": "code",
   "execution_count": 174,
   "id": "35a18b49",
   "metadata": {},
   "outputs": [],
   "source": [
    "#try1\n",
    "predictions = pd.DataFrame(knn_cv.predict(test_data)) \n",
    "res = pd.DataFrame(predictions)  \n",
    "res.index = test_data.index \n",
    "res.columns = [\"prediction\"]\n",
    "res.to_csv(\"prediction_results.csv\", index = False) \n"
   ]
  },
  {
   "cell_type": "code",
   "execution_count": 175,
   "id": "802ab9ca",
   "metadata": {},
   "outputs": [],
   "source": [
    "#try2\n",
    "predictions = gb2.predict(test_data)\n",
    "res = pd.DataFrame(predictions)  \n",
    "res.index = test_data.index \n",
    "res.columns = [\"booking_status\"]\n",
    "res.to_csv(\"prediction_results.csv\", index = False) "
   ]
  },
  {
   "cell_type": "code",
   "execution_count": null,
   "id": "4d0d3b95",
   "metadata": {},
   "outputs": [],
   "source": []
  }
 ],
 "metadata": {
  "kernelspec": {
   "display_name": "Python 3 (ipykernel)",
   "language": "python",
   "name": "python3"
  },
  "language_info": {
   "codemirror_mode": {
    "name": "ipython",
    "version": 3
   },
   "file_extension": ".py",
   "mimetype": "text/x-python",
   "name": "python",
   "nbconvert_exporter": "python",
   "pygments_lexer": "ipython3",
   "version": "3.9.12"
  }
 },
 "nbformat": 4,
 "nbformat_minor": 5
}
